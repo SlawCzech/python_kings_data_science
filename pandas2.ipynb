{
 "cells": [
  {
   "cell_type": "code",
   "execution_count": 10,
   "id": "ad791d01-5cab-4b8a-bcd4-42d4baeda3cb",
   "metadata": {},
   "outputs": [],
   "source": [
    "import os\n",
    "import pandas as pd\n",
    "\n",
    "from pandas import isnull"
   ]
  },
  {
   "cell_type": "code",
   "execution_count": 4,
   "id": "304984c0-0416-4f36-a24b-3a0201d50fd9",
   "metadata": {},
   "outputs": [],
   "source": [
    "master = pd.read_csv(os.path.join('dataset01', 'Master.csv'))"
   ]
  },
  {
   "cell_type": "code",
   "execution_count": 5,
   "id": "69cc0d9c-764c-44ca-90b6-b96a231089e9",
   "metadata": {},
   "outputs": [
    {
     "data": {
      "text/plain": [
       "(7761, 31)"
      ]
     },
     "execution_count": 5,
     "metadata": {},
     "output_type": "execute_result"
    }
   ],
   "source": [
    "master.shape"
   ]
  },
  {
   "cell_type": "code",
   "execution_count": 6,
   "id": "114e66c1-6e5b-4986-8a41-f7470d003675",
   "metadata": {},
   "outputs": [
    {
     "data": {
      "text/plain": [
       "Index(['playerID', 'coachID', 'hofID', 'firstName', 'lastName', 'nameNote',\n",
       "       'nameGiven', 'nameNick', 'height', 'weight', 'shootCatch', 'legendsID',\n",
       "       'ihdbID', 'hrefID', 'firstNHL', 'lastNHL', 'firstWHA', 'lastWHA', 'pos',\n",
       "       'birthYear', 'birthMon', 'birthDay', 'birthCountry', 'birthState',\n",
       "       'birthCity', 'deathYear', 'deathMon', 'deathDay', 'deathCountry',\n",
       "       'deathState', 'deathCity'],\n",
       "      dtype='object')"
      ]
     },
     "execution_count": 6,
     "metadata": {},
     "output_type": "execute_result"
    }
   ],
   "source": [
    "master.columns"
   ]
  },
  {
   "cell_type": "code",
   "execution_count": 7,
   "id": "78ddf479-f8c0-4e46-af0f-fd634253759d",
   "metadata": {},
   "outputs": [
    {
     "data": {
      "text/html": [
       "<div>\n",
       "<style scoped>\n",
       "    .dataframe tbody tr th:only-of-type {\n",
       "        vertical-align: middle;\n",
       "    }\n",
       "\n",
       "    .dataframe tbody tr th {\n",
       "        vertical-align: top;\n",
       "    }\n",
       "\n",
       "    .dataframe thead th {\n",
       "        text-align: right;\n",
       "    }\n",
       "</style>\n",
       "<table border=\"1\" class=\"dataframe\">\n",
       "  <thead>\n",
       "    <tr style=\"text-align: right;\">\n",
       "      <th></th>\n",
       "      <th>playerID</th>\n",
       "      <th>coachID</th>\n",
       "      <th>hofID</th>\n",
       "      <th>firstName</th>\n",
       "      <th>lastName</th>\n",
       "      <th>nameNote</th>\n",
       "      <th>nameGiven</th>\n",
       "      <th>nameNick</th>\n",
       "      <th>height</th>\n",
       "      <th>weight</th>\n",
       "      <th>...</th>\n",
       "      <th>birthDay</th>\n",
       "      <th>birthCountry</th>\n",
       "      <th>birthState</th>\n",
       "      <th>birthCity</th>\n",
       "      <th>deathYear</th>\n",
       "      <th>deathMon</th>\n",
       "      <th>deathDay</th>\n",
       "      <th>deathCountry</th>\n",
       "      <th>deathState</th>\n",
       "      <th>deathCity</th>\n",
       "    </tr>\n",
       "  </thead>\n",
       "  <tbody>\n",
       "    <tr>\n",
       "      <th>0</th>\n",
       "      <td>aaltoan01</td>\n",
       "      <td>NaN</td>\n",
       "      <td>NaN</td>\n",
       "      <td>Antti</td>\n",
       "      <td>Aalto</td>\n",
       "      <td>NaN</td>\n",
       "      <td>Antti</td>\n",
       "      <td>NaN</td>\n",
       "      <td>73.0</td>\n",
       "      <td>210.0</td>\n",
       "      <td>...</td>\n",
       "      <td>4.0</td>\n",
       "      <td>Finland</td>\n",
       "      <td>NaN</td>\n",
       "      <td>Lappeenranta</td>\n",
       "      <td>NaN</td>\n",
       "      <td>NaN</td>\n",
       "      <td>NaN</td>\n",
       "      <td>NaN</td>\n",
       "      <td>NaN</td>\n",
       "      <td>NaN</td>\n",
       "    </tr>\n",
       "    <tr>\n",
       "      <th>1</th>\n",
       "      <td>abbeybr01</td>\n",
       "      <td>NaN</td>\n",
       "      <td>NaN</td>\n",
       "      <td>Bruce</td>\n",
       "      <td>Abbey</td>\n",
       "      <td>NaN</td>\n",
       "      <td>Bruce</td>\n",
       "      <td>NaN</td>\n",
       "      <td>73.0</td>\n",
       "      <td>185.0</td>\n",
       "      <td>...</td>\n",
       "      <td>18.0</td>\n",
       "      <td>Canada</td>\n",
       "      <td>ON</td>\n",
       "      <td>Toronto</td>\n",
       "      <td>NaN</td>\n",
       "      <td>NaN</td>\n",
       "      <td>NaN</td>\n",
       "      <td>NaN</td>\n",
       "      <td>NaN</td>\n",
       "      <td>NaN</td>\n",
       "    </tr>\n",
       "    <tr>\n",
       "      <th>2</th>\n",
       "      <td>abbotge01</td>\n",
       "      <td>NaN</td>\n",
       "      <td>NaN</td>\n",
       "      <td>George</td>\n",
       "      <td>Abbott</td>\n",
       "      <td>NaN</td>\n",
       "      <td>George Henry</td>\n",
       "      <td>Preacher</td>\n",
       "      <td>67.0</td>\n",
       "      <td>153.0</td>\n",
       "      <td>...</td>\n",
       "      <td>3.0</td>\n",
       "      <td>Canada</td>\n",
       "      <td>ON</td>\n",
       "      <td>Synenham</td>\n",
       "      <td>NaN</td>\n",
       "      <td>NaN</td>\n",
       "      <td>NaN</td>\n",
       "      <td>NaN</td>\n",
       "      <td>NaN</td>\n",
       "      <td>NaN</td>\n",
       "    </tr>\n",
       "    <tr>\n",
       "      <th>3</th>\n",
       "      <td>abbotre01</td>\n",
       "      <td>NaN</td>\n",
       "      <td>NaN</td>\n",
       "      <td>Reg</td>\n",
       "      <td>Abbott</td>\n",
       "      <td>NaN</td>\n",
       "      <td>Reginald Stewart</td>\n",
       "      <td>NaN</td>\n",
       "      <td>71.0</td>\n",
       "      <td>164.0</td>\n",
       "      <td>...</td>\n",
       "      <td>4.0</td>\n",
       "      <td>Canada</td>\n",
       "      <td>MB</td>\n",
       "      <td>Winnipeg</td>\n",
       "      <td>NaN</td>\n",
       "      <td>NaN</td>\n",
       "      <td>NaN</td>\n",
       "      <td>NaN</td>\n",
       "      <td>NaN</td>\n",
       "      <td>NaN</td>\n",
       "    </tr>\n",
       "    <tr>\n",
       "      <th>4</th>\n",
       "      <td>abdelju01</td>\n",
       "      <td>NaN</td>\n",
       "      <td>NaN</td>\n",
       "      <td>Justin</td>\n",
       "      <td>Abdelkader</td>\n",
       "      <td>NaN</td>\n",
       "      <td>NaN</td>\n",
       "      <td>NaN</td>\n",
       "      <td>73.0</td>\n",
       "      <td>195.0</td>\n",
       "      <td>...</td>\n",
       "      <td>25.0</td>\n",
       "      <td>USA</td>\n",
       "      <td>MI</td>\n",
       "      <td>Muskegon</td>\n",
       "      <td>NaN</td>\n",
       "      <td>NaN</td>\n",
       "      <td>NaN</td>\n",
       "      <td>NaN</td>\n",
       "      <td>NaN</td>\n",
       "      <td>NaN</td>\n",
       "    </tr>\n",
       "    <tr>\n",
       "      <th>5</th>\n",
       "      <td>abelcl01</td>\n",
       "      <td>NaN</td>\n",
       "      <td>NaN</td>\n",
       "      <td>Clarence</td>\n",
       "      <td>Abel</td>\n",
       "      <td>NaN</td>\n",
       "      <td>Clarence John</td>\n",
       "      <td>Taffy</td>\n",
       "      <td>73.0</td>\n",
       "      <td>225.0</td>\n",
       "      <td>...</td>\n",
       "      <td>28.0</td>\n",
       "      <td>USA</td>\n",
       "      <td>MI</td>\n",
       "      <td>Sault Ste. Marie</td>\n",
       "      <td>1964.0</td>\n",
       "      <td>8.0</td>\n",
       "      <td>1.0</td>\n",
       "      <td>USA</td>\n",
       "      <td>MI</td>\n",
       "      <td>Sault Ste. Marie</td>\n",
       "    </tr>\n",
       "  </tbody>\n",
       "</table>\n",
       "<p>6 rows × 31 columns</p>\n",
       "</div>"
      ],
      "text/plain": [
       "    playerID coachID hofID firstName    lastName nameNote         nameGiven  \\\n",
       "0  aaltoan01     NaN   NaN     Antti       Aalto      NaN             Antti   \n",
       "1  abbeybr01     NaN   NaN     Bruce       Abbey      NaN             Bruce   \n",
       "2  abbotge01     NaN   NaN    George      Abbott      NaN      George Henry   \n",
       "3  abbotre01     NaN   NaN       Reg      Abbott      NaN  Reginald Stewart   \n",
       "4  abdelju01     NaN   NaN    Justin  Abdelkader      NaN               NaN   \n",
       "5   abelcl01     NaN   NaN  Clarence        Abel      NaN     Clarence John   \n",
       "\n",
       "   nameNick  height  weight  ... birthDay birthCountry  birthState  \\\n",
       "0       NaN    73.0   210.0  ...      4.0      Finland         NaN   \n",
       "1       NaN    73.0   185.0  ...     18.0       Canada          ON   \n",
       "2  Preacher    67.0   153.0  ...      3.0       Canada          ON   \n",
       "3       NaN    71.0   164.0  ...      4.0       Canada          MB   \n",
       "4       NaN    73.0   195.0  ...     25.0          USA          MI   \n",
       "5     Taffy    73.0   225.0  ...     28.0          USA          MI   \n",
       "\n",
       "          birthCity  deathYear  deathMon  deathDay  deathCountry deathState  \\\n",
       "0      Lappeenranta        NaN       NaN       NaN           NaN        NaN   \n",
       "1           Toronto        NaN       NaN       NaN           NaN        NaN   \n",
       "2          Synenham        NaN       NaN       NaN           NaN        NaN   \n",
       "3          Winnipeg        NaN       NaN       NaN           NaN        NaN   \n",
       "4          Muskegon        NaN       NaN       NaN           NaN        NaN   \n",
       "5  Sault Ste. Marie     1964.0       8.0       1.0           USA         MI   \n",
       "\n",
       "          deathCity  \n",
       "0               NaN  \n",
       "1               NaN  \n",
       "2               NaN  \n",
       "3               NaN  \n",
       "4               NaN  \n",
       "5  Sault Ste. Marie  \n",
       "\n",
       "[6 rows x 31 columns]"
      ]
     },
     "execution_count": 7,
     "metadata": {},
     "output_type": "execute_result"
    }
   ],
   "source": [
    "master.head(6)"
   ]
  },
  {
   "cell_type": "code",
   "execution_count": 8,
   "id": "7ee933c4-6266-4d02-a63b-98653f1e28c5",
   "metadata": {},
   "outputs": [
    {
     "data": {
      "text/html": [
       "<div>\n",
       "<style scoped>\n",
       "    .dataframe tbody tr th:only-of-type {\n",
       "        vertical-align: middle;\n",
       "    }\n",
       "\n",
       "    .dataframe tbody tr th {\n",
       "        vertical-align: top;\n",
       "    }\n",
       "\n",
       "    .dataframe thead th {\n",
       "        text-align: right;\n",
       "    }\n",
       "</style>\n",
       "<table border=\"1\" class=\"dataframe\">\n",
       "  <thead>\n",
       "    <tr style=\"text-align: right;\">\n",
       "      <th></th>\n",
       "      <th>playerID</th>\n",
       "      <th>coachID</th>\n",
       "      <th>hofID</th>\n",
       "      <th>firstName</th>\n",
       "      <th>lastName</th>\n",
       "      <th>nameNote</th>\n",
       "      <th>nameGiven</th>\n",
       "      <th>nameNick</th>\n",
       "      <th>height</th>\n",
       "      <th>weight</th>\n",
       "      <th>...</th>\n",
       "      <th>birthDay</th>\n",
       "      <th>birthCountry</th>\n",
       "      <th>birthState</th>\n",
       "      <th>birthCity</th>\n",
       "      <th>deathYear</th>\n",
       "      <th>deathMon</th>\n",
       "      <th>deathDay</th>\n",
       "      <th>deathCountry</th>\n",
       "      <th>deathState</th>\n",
       "      <th>deathCity</th>\n",
       "    </tr>\n",
       "  </thead>\n",
       "  <tbody>\n",
       "    <tr>\n",
       "      <th>7755</th>\n",
       "      <td>zuccama01</td>\n",
       "      <td>NaN</td>\n",
       "      <td>NaN</td>\n",
       "      <td>Mats</td>\n",
       "      <td>Zuccarello</td>\n",
       "      <td>NaN</td>\n",
       "      <td>NaN</td>\n",
       "      <td>NaN</td>\n",
       "      <td>67.0</td>\n",
       "      <td>174.0</td>\n",
       "      <td>...</td>\n",
       "      <td>1.0</td>\n",
       "      <td>Norway</td>\n",
       "      <td>NaN</td>\n",
       "      <td>Oslo</td>\n",
       "      <td>NaN</td>\n",
       "      <td>NaN</td>\n",
       "      <td>NaN</td>\n",
       "      <td>NaN</td>\n",
       "      <td>NaN</td>\n",
       "      <td>NaN</td>\n",
       "    </tr>\n",
       "    <tr>\n",
       "      <th>7756</th>\n",
       "      <td>zuckeja01</td>\n",
       "      <td>NaN</td>\n",
       "      <td>NaN</td>\n",
       "      <td>Jason</td>\n",
       "      <td>Zucker</td>\n",
       "      <td>NaN</td>\n",
       "      <td>NaN</td>\n",
       "      <td>NaN</td>\n",
       "      <td>71.0</td>\n",
       "      <td>174.0</td>\n",
       "      <td>...</td>\n",
       "      <td>16.0</td>\n",
       "      <td>NaN</td>\n",
       "      <td>NaN</td>\n",
       "      <td>NaN</td>\n",
       "      <td>NaN</td>\n",
       "      <td>NaN</td>\n",
       "      <td>NaN</td>\n",
       "      <td>NaN</td>\n",
       "      <td>NaN</td>\n",
       "      <td>NaN</td>\n",
       "    </tr>\n",
       "    <tr>\n",
       "      <th>7757</th>\n",
       "      <td>zukemi01</td>\n",
       "      <td>NaN</td>\n",
       "      <td>NaN</td>\n",
       "      <td>Mike</td>\n",
       "      <td>Zuke</td>\n",
       "      <td>NaN</td>\n",
       "      <td>Michael Zuke</td>\n",
       "      <td>NaN</td>\n",
       "      <td>72.0</td>\n",
       "      <td>180.0</td>\n",
       "      <td>...</td>\n",
       "      <td>16.0</td>\n",
       "      <td>Canada</td>\n",
       "      <td>ON</td>\n",
       "      <td>Sault Ste. Marie</td>\n",
       "      <td>NaN</td>\n",
       "      <td>NaN</td>\n",
       "      <td>NaN</td>\n",
       "      <td>NaN</td>\n",
       "      <td>NaN</td>\n",
       "      <td>NaN</td>\n",
       "    </tr>\n",
       "    <tr>\n",
       "      <th>7758</th>\n",
       "      <td>zukwa01</td>\n",
       "      <td>NaN</td>\n",
       "      <td>NaN</td>\n",
       "      <td>Wayne</td>\n",
       "      <td>Zuk</td>\n",
       "      <td>NaN</td>\n",
       "      <td>Wayne David</td>\n",
       "      <td>NaN</td>\n",
       "      <td>68.0</td>\n",
       "      <td>160.0</td>\n",
       "      <td>...</td>\n",
       "      <td>29.0</td>\n",
       "      <td>Canada</td>\n",
       "      <td>SK</td>\n",
       "      <td>Prince Albert</td>\n",
       "      <td>NaN</td>\n",
       "      <td>NaN</td>\n",
       "      <td>NaN</td>\n",
       "      <td>NaN</td>\n",
       "      <td>NaN</td>\n",
       "      <td>NaN</td>\n",
       "    </tr>\n",
       "    <tr>\n",
       "      <th>7759</th>\n",
       "      <td>zunicru01</td>\n",
       "      <td>NaN</td>\n",
       "      <td>NaN</td>\n",
       "      <td>Rudy</td>\n",
       "      <td>Zunich</td>\n",
       "      <td>NaN</td>\n",
       "      <td>Rudolph Ralph (Jr.)</td>\n",
       "      <td>NaN</td>\n",
       "      <td>69.0</td>\n",
       "      <td>170.0</td>\n",
       "      <td>...</td>\n",
       "      <td>24.0</td>\n",
       "      <td>USA</td>\n",
       "      <td>MI</td>\n",
       "      <td>Calumet</td>\n",
       "      <td>1974.0</td>\n",
       "      <td>3.0</td>\n",
       "      <td>13.0</td>\n",
       "      <td>NaN</td>\n",
       "      <td>NaN</td>\n",
       "      <td>NaN</td>\n",
       "    </tr>\n",
       "    <tr>\n",
       "      <th>7760</th>\n",
       "      <td>zyuzian01</td>\n",
       "      <td>NaN</td>\n",
       "      <td>NaN</td>\n",
       "      <td>Andrei</td>\n",
       "      <td>Zyuzin</td>\n",
       "      <td>NaN</td>\n",
       "      <td>Andrei</td>\n",
       "      <td>NaN</td>\n",
       "      <td>73.0</td>\n",
       "      <td>208.0</td>\n",
       "      <td>...</td>\n",
       "      <td>21.0</td>\n",
       "      <td>Russia</td>\n",
       "      <td>NaN</td>\n",
       "      <td>Ufa</td>\n",
       "      <td>NaN</td>\n",
       "      <td>NaN</td>\n",
       "      <td>NaN</td>\n",
       "      <td>NaN</td>\n",
       "      <td>NaN</td>\n",
       "      <td>NaN</td>\n",
       "    </tr>\n",
       "  </tbody>\n",
       "</table>\n",
       "<p>6 rows × 31 columns</p>\n",
       "</div>"
      ],
      "text/plain": [
       "       playerID coachID hofID firstName    lastName nameNote  \\\n",
       "7755  zuccama01     NaN   NaN      Mats  Zuccarello      NaN   \n",
       "7756  zuckeja01     NaN   NaN     Jason      Zucker      NaN   \n",
       "7757   zukemi01     NaN   NaN      Mike        Zuke      NaN   \n",
       "7758    zukwa01     NaN   NaN     Wayne         Zuk      NaN   \n",
       "7759  zunicru01     NaN   NaN      Rudy      Zunich      NaN   \n",
       "7760  zyuzian01     NaN   NaN    Andrei      Zyuzin      NaN   \n",
       "\n",
       "                nameGiven nameNick  height  weight  ... birthDay birthCountry  \\\n",
       "7755                  NaN      NaN    67.0   174.0  ...      1.0       Norway   \n",
       "7756                  NaN      NaN    71.0   174.0  ...     16.0          NaN   \n",
       "7757         Michael Zuke      NaN    72.0   180.0  ...     16.0       Canada   \n",
       "7758          Wayne David      NaN    68.0   160.0  ...     29.0       Canada   \n",
       "7759  Rudolph Ralph (Jr.)      NaN    69.0   170.0  ...     24.0          USA   \n",
       "7760               Andrei      NaN    73.0   208.0  ...     21.0       Russia   \n",
       "\n",
       "      birthState         birthCity  deathYear  deathMon  deathDay  \\\n",
       "7755         NaN              Oslo        NaN       NaN       NaN   \n",
       "7756         NaN               NaN        NaN       NaN       NaN   \n",
       "7757          ON  Sault Ste. Marie        NaN       NaN       NaN   \n",
       "7758          SK     Prince Albert        NaN       NaN       NaN   \n",
       "7759          MI           Calumet     1974.0       3.0      13.0   \n",
       "7760         NaN               Ufa        NaN       NaN       NaN   \n",
       "\n",
       "      deathCountry deathState  deathCity  \n",
       "7755           NaN        NaN        NaN  \n",
       "7756           NaN        NaN        NaN  \n",
       "7757           NaN        NaN        NaN  \n",
       "7758           NaN        NaN        NaN  \n",
       "7759           NaN        NaN        NaN  \n",
       "7760           NaN        NaN        NaN  \n",
       "\n",
       "[6 rows x 31 columns]"
      ]
     },
     "execution_count": 8,
     "metadata": {},
     "output_type": "execute_result"
    }
   ],
   "source": [
    "master.tail(6)"
   ]
  },
  {
   "cell_type": "raw",
   "id": "fb749f0f-d8f7-4631-a757-798c0bdbb701",
   "metadata": {},
   "source": []
  },
  {
   "cell_type": "code",
   "execution_count": 13,
   "id": "7de50c43-5192-4b91-b291-fe2911ab3c3d",
   "metadata": {},
   "outputs": [
    {
     "data": {
      "text/plain": [
       "False    7520\n",
       "True      241\n",
       "Name: playerID, dtype: int64"
      ]
     },
     "execution_count": 13,
     "metadata": {},
     "output_type": "execute_result"
    }
   ],
   "source": [
    "master['playerID'].pipe(isnull).value_counts()"
   ]
  },
  {
   "cell_type": "code",
   "execution_count": 14,
   "id": "a489f4eb-3827-4db8-917b-632c74ed6b1c",
   "metadata": {},
   "outputs": [],
   "source": [
    "master_orig = master.copy()"
   ]
  },
  {
   "cell_type": "code",
   "execution_count": 15,
   "id": "900593d3-0ca4-4e98-bbbe-a5b5c4cb3439",
   "metadata": {},
   "outputs": [
    {
     "data": {
      "text/plain": [
       "(7520, 31)"
      ]
     },
     "execution_count": 15,
     "metadata": {},
     "output_type": "execute_result"
    }
   ],
   "source": [
    "master = master.dropna(subset='playerID')\n",
    "master.shape"
   ]
  },
  {
   "cell_type": "code",
   "execution_count": 16,
   "id": "2cd74ed7-3ec7-467f-9312-e9569e354f79",
   "metadata": {},
   "outputs": [
    {
     "data": {
      "text/plain": [
       "False    6851\n",
       "True      669\n",
       "Name: lastNHL, dtype: int64"
      ]
     },
     "execution_count": 16,
     "metadata": {},
     "output_type": "execute_result"
    }
   ],
   "source": [
    "master['lastNHL'].pipe(isnull).value_counts()"
   ]
  },
  {
   "cell_type": "code",
   "execution_count": 17,
   "id": "bb172247-ccef-4c76-82a2-b2f8e6fb2a0e",
   "metadata": {},
   "outputs": [],
   "source": [
    "master.dropna(subset=['firstNHL', 'lastNHL'], how='all', inplace=True)"
   ]
  },
  {
   "cell_type": "code",
   "execution_count": 18,
   "id": "b8462dce-5501-4cff-97d6-1e174f32ae08",
   "metadata": {},
   "outputs": [
    {
     "data": {
      "text/plain": [
       "(6851, 31)"
      ]
     },
     "execution_count": 18,
     "metadata": {},
     "output_type": "execute_result"
    }
   ],
   "source": [
    "master.shape"
   ]
  },
  {
   "cell_type": "code",
   "execution_count": 19,
   "id": "f70559a0-918c-4674-94cc-5dac95f1d345",
   "metadata": {},
   "outputs": [],
   "source": [
    "master = master.loc[master['lastNHL'] >= 1980]"
   ]
  },
  {
   "cell_type": "code",
   "execution_count": 20,
   "id": "f0f7f67d-1494-4556-8bf2-52fc6a1287d5",
   "metadata": {},
   "outputs": [
    {
     "data": {
      "text/plain": [
       "(4627, 31)"
      ]
     },
     "execution_count": 20,
     "metadata": {},
     "output_type": "execute_result"
    }
   ],
   "source": [
    "master.shape"
   ]
  },
  {
   "cell_type": "code",
   "execution_count": 21,
   "id": "13ceb988-a26c-4ce3-a5c7-757f2cfd5bf3",
   "metadata": {},
   "outputs": [
    {
     "data": {
      "text/plain": [
       "Index(['playerID', 'coachID', 'hofID', 'firstName', 'lastName', 'nameNote',\n",
       "       'nameGiven', 'nameNick', 'height', 'weight', 'shootCatch', 'legendsID',\n",
       "       'ihdbID', 'hrefID', 'firstNHL', 'lastNHL', 'firstWHA', 'lastWHA', 'pos',\n",
       "       'birthYear', 'birthMon', 'birthDay', 'birthCountry', 'birthState',\n",
       "       'birthCity', 'deathYear', 'deathMon', 'deathDay', 'deathCountry',\n",
       "       'deathState', 'deathCity'],\n",
       "      dtype='object')"
      ]
     },
     "execution_count": 21,
     "metadata": {},
     "output_type": "execute_result"
    }
   ],
   "source": [
    "master.columns"
   ]
  },
  {
   "cell_type": "code",
   "execution_count": 22,
   "id": "1edb86b7-ee13-43d1-be21-c36b453a8f7c",
   "metadata": {},
   "outputs": [],
   "source": [
    "columns_to_keep = ['playerID', 'firstName', 'lastName', 'pos', 'birthYear', 'birthMon', 'birthDay', 'birthCountry', 'birthState', 'birthCity']"
   ]
  },
  {
   "cell_type": "code",
   "execution_count": 24,
   "id": "a0fbba89-4cbd-4f17-bc9d-3695fb989f6d",
   "metadata": {},
   "outputs": [
    {
     "data": {
      "text/html": [
       "<div>\n",
       "<style scoped>\n",
       "    .dataframe tbody tr th:only-of-type {\n",
       "        vertical-align: middle;\n",
       "    }\n",
       "\n",
       "    .dataframe tbody tr th {\n",
       "        vertical-align: top;\n",
       "    }\n",
       "\n",
       "    .dataframe thead th {\n",
       "        text-align: right;\n",
       "    }\n",
       "</style>\n",
       "<table border=\"1\" class=\"dataframe\">\n",
       "  <thead>\n",
       "    <tr style=\"text-align: right;\">\n",
       "      <th></th>\n",
       "      <th>playerID</th>\n",
       "      <th>firstName</th>\n",
       "      <th>lastName</th>\n",
       "      <th>pos</th>\n",
       "      <th>birthYear</th>\n",
       "      <th>birthMon</th>\n",
       "      <th>birthDay</th>\n",
       "      <th>birthCountry</th>\n",
       "      <th>birthState</th>\n",
       "      <th>birthCity</th>\n",
       "    </tr>\n",
       "  </thead>\n",
       "  <tbody>\n",
       "    <tr>\n",
       "      <th>0</th>\n",
       "      <td>aaltoan01</td>\n",
       "      <td>Antti</td>\n",
       "      <td>Aalto</td>\n",
       "      <td>C</td>\n",
       "      <td>1975.0</td>\n",
       "      <td>3.0</td>\n",
       "      <td>4.0</td>\n",
       "      <td>Finland</td>\n",
       "      <td>NaN</td>\n",
       "      <td>Lappeenranta</td>\n",
       "    </tr>\n",
       "    <tr>\n",
       "      <th>4</th>\n",
       "      <td>abdelju01</td>\n",
       "      <td>Justin</td>\n",
       "      <td>Abdelkader</td>\n",
       "      <td>L</td>\n",
       "      <td>1987.0</td>\n",
       "      <td>2.0</td>\n",
       "      <td>25.0</td>\n",
       "      <td>USA</td>\n",
       "      <td>MI</td>\n",
       "      <td>Muskegon</td>\n",
       "    </tr>\n",
       "    <tr>\n",
       "      <th>9</th>\n",
       "      <td>abidra01</td>\n",
       "      <td>Ramzi</td>\n",
       "      <td>Abid</td>\n",
       "      <td>L</td>\n",
       "      <td>1980.0</td>\n",
       "      <td>3.0</td>\n",
       "      <td>24.0</td>\n",
       "      <td>Canada</td>\n",
       "      <td>QC</td>\n",
       "      <td>Montreal</td>\n",
       "    </tr>\n",
       "    <tr>\n",
       "      <th>11</th>\n",
       "      <td>abrahth01</td>\n",
       "      <td>Thommy</td>\n",
       "      <td>Abrahamsson</td>\n",
       "      <td>D</td>\n",
       "      <td>1947.0</td>\n",
       "      <td>4.0</td>\n",
       "      <td>12.0</td>\n",
       "      <td>Sweden</td>\n",
       "      <td>NaN</td>\n",
       "      <td>Leksand</td>\n",
       "    </tr>\n",
       "    <tr>\n",
       "      <th>14</th>\n",
       "      <td>actonke01</td>\n",
       "      <td>Keith</td>\n",
       "      <td>Acton</td>\n",
       "      <td>C</td>\n",
       "      <td>1958.0</td>\n",
       "      <td>4.0</td>\n",
       "      <td>15.0</td>\n",
       "      <td>Canada</td>\n",
       "      <td>ON</td>\n",
       "      <td>Stouffville</td>\n",
       "    </tr>\n",
       "  </tbody>\n",
       "</table>\n",
       "</div>"
      ],
      "text/plain": [
       "     playerID firstName     lastName pos  birthYear  birthMon  birthDay  \\\n",
       "0   aaltoan01     Antti        Aalto   C     1975.0       3.0       4.0   \n",
       "4   abdelju01    Justin   Abdelkader   L     1987.0       2.0      25.0   \n",
       "9    abidra01     Ramzi         Abid   L     1980.0       3.0      24.0   \n",
       "11  abrahth01    Thommy  Abrahamsson   D     1947.0       4.0      12.0   \n",
       "14  actonke01     Keith        Acton   C     1958.0       4.0      15.0   \n",
       "\n",
       "   birthCountry birthState     birthCity  \n",
       "0       Finland        NaN  Lappeenranta  \n",
       "4           USA         MI      Muskegon  \n",
       "9        Canada         QC      Montreal  \n",
       "11       Sweden        NaN       Leksand  \n",
       "14       Canada         ON   Stouffville  "
      ]
     },
     "execution_count": 24,
     "metadata": {},
     "output_type": "execute_result"
    }
   ],
   "source": [
    "master[columns_to_keep].head()"
   ]
  },
  {
   "cell_type": "code",
   "execution_count": 26,
   "id": "f9bedbce-c66c-4493-bb2b-b45e8e537e9e",
   "metadata": {},
   "outputs": [
    {
     "data": {
      "text/html": [
       "<div>\n",
       "<style scoped>\n",
       "    .dataframe tbody tr th:only-of-type {\n",
       "        vertical-align: middle;\n",
       "    }\n",
       "\n",
       "    .dataframe tbody tr th {\n",
       "        vertical-align: top;\n",
       "    }\n",
       "\n",
       "    .dataframe thead th {\n",
       "        text-align: right;\n",
       "    }\n",
       "</style>\n",
       "<table border=\"1\" class=\"dataframe\">\n",
       "  <thead>\n",
       "    <tr style=\"text-align: right;\">\n",
       "      <th></th>\n",
       "      <th>playerID</th>\n",
       "      <th>firstName</th>\n",
       "      <th>lastName</th>\n",
       "      <th>pos</th>\n",
       "      <th>birthYear</th>\n",
       "      <th>birthMon</th>\n",
       "      <th>birthDay</th>\n",
       "      <th>birthCountry</th>\n",
       "      <th>birthState</th>\n",
       "      <th>birthCity</th>\n",
       "    </tr>\n",
       "  </thead>\n",
       "  <tbody>\n",
       "    <tr>\n",
       "      <th>0</th>\n",
       "      <td>aaltoan01</td>\n",
       "      <td>Antti</td>\n",
       "      <td>Aalto</td>\n",
       "      <td>C</td>\n",
       "      <td>1975.0</td>\n",
       "      <td>3.0</td>\n",
       "      <td>4.0</td>\n",
       "      <td>Finland</td>\n",
       "      <td>NaN</td>\n",
       "      <td>Lappeenranta</td>\n",
       "    </tr>\n",
       "    <tr>\n",
       "      <th>4</th>\n",
       "      <td>abdelju01</td>\n",
       "      <td>Justin</td>\n",
       "      <td>Abdelkader</td>\n",
       "      <td>L</td>\n",
       "      <td>1987.0</td>\n",
       "      <td>2.0</td>\n",
       "      <td>25.0</td>\n",
       "      <td>USA</td>\n",
       "      <td>MI</td>\n",
       "      <td>Muskegon</td>\n",
       "    </tr>\n",
       "    <tr>\n",
       "      <th>9</th>\n",
       "      <td>abidra01</td>\n",
       "      <td>Ramzi</td>\n",
       "      <td>Abid</td>\n",
       "      <td>L</td>\n",
       "      <td>1980.0</td>\n",
       "      <td>3.0</td>\n",
       "      <td>24.0</td>\n",
       "      <td>Canada</td>\n",
       "      <td>QC</td>\n",
       "      <td>Montreal</td>\n",
       "    </tr>\n",
       "    <tr>\n",
       "      <th>11</th>\n",
       "      <td>abrahth01</td>\n",
       "      <td>Thommy</td>\n",
       "      <td>Abrahamsson</td>\n",
       "      <td>D</td>\n",
       "      <td>1947.0</td>\n",
       "      <td>4.0</td>\n",
       "      <td>12.0</td>\n",
       "      <td>Sweden</td>\n",
       "      <td>NaN</td>\n",
       "      <td>Leksand</td>\n",
       "    </tr>\n",
       "    <tr>\n",
       "      <th>14</th>\n",
       "      <td>actonke01</td>\n",
       "      <td>Keith</td>\n",
       "      <td>Acton</td>\n",
       "      <td>C</td>\n",
       "      <td>1958.0</td>\n",
       "      <td>4.0</td>\n",
       "      <td>15.0</td>\n",
       "      <td>Canada</td>\n",
       "      <td>ON</td>\n",
       "      <td>Stouffville</td>\n",
       "    </tr>\n",
       "  </tbody>\n",
       "</table>\n",
       "</div>"
      ],
      "text/plain": [
       "     playerID firstName     lastName pos  birthYear  birthMon  birthDay  \\\n",
       "0   aaltoan01     Antti        Aalto   C     1975.0       3.0       4.0   \n",
       "4   abdelju01    Justin   Abdelkader   L     1987.0       2.0      25.0   \n",
       "9    abidra01     Ramzi         Abid   L     1980.0       3.0      24.0   \n",
       "11  abrahth01    Thommy  Abrahamsson   D     1947.0       4.0      12.0   \n",
       "14  actonke01     Keith        Acton   C     1958.0       4.0      15.0   \n",
       "\n",
       "   birthCountry birthState     birthCity  \n",
       "0       Finland        NaN  Lappeenranta  \n",
       "4           USA         MI      Muskegon  \n",
       "9        Canada         QC      Montreal  \n",
       "11       Sweden        NaN       Leksand  \n",
       "14       Canada         ON   Stouffville  "
      ]
     },
     "execution_count": 26,
     "metadata": {},
     "output_type": "execute_result"
    }
   ],
   "source": [
    "master.filter(columns_to_keep).head()"
   ]
  },
  {
   "cell_type": "code",
   "execution_count": 28,
   "id": "37505dec-ead7-492b-9753-ef374d111dbc",
   "metadata": {},
   "outputs": [
    {
     "data": {
      "text/plain": [
       "Index(['playerID', 'firstName', 'lastName', 'pos', 'birthYear', 'birthMon',\n",
       "       'birthDay', 'birthCountry', 'birthState', 'birthCity'],\n",
       "      dtype='object')"
      ]
     },
     "execution_count": 28,
     "metadata": {},
     "output_type": "execute_result"
    }
   ],
   "source": [
    "master = master.filter(regex='(playerID|pos|Name$|^birth)')\n",
    "master.columns"
   ]
  },
  {
   "cell_type": "code",
   "execution_count": 30,
   "id": "f1a0a852-4ad0-49b4-8cbe-929817e80d26",
   "metadata": {},
   "outputs": [],
   "source": [
    "def memory_usage(df):\n",
    "    print('{0:.2f} MiB'.format(df.memory_usage().sum() / (1024*1024)))"
   ]
  },
  {
   "cell_type": "code",
   "execution_count": 31,
   "id": "4c2823e6-aa12-4fea-acc2-6fbc98783074",
   "metadata": {},
   "outputs": [
    {
     "name": "stdout",
     "output_type": "stream",
     "text": [
      "0.39 MiB\n"
     ]
    }
   ],
   "source": [
    "memory_usage(master)"
   ]
  },
  {
   "cell_type": "code",
   "execution_count": 32,
   "id": "1a81b357-db82-4df7-836d-782ce9abe588",
   "metadata": {},
   "outputs": [
    {
     "name": "stdout",
     "output_type": "stream",
     "text": [
      "1.84 MiB\n"
     ]
    }
   ],
   "source": [
    "memory_usage(master_orig)"
   ]
  },
  {
   "cell_type": "code",
   "execution_count": 33,
   "id": "6506bf88-d2dc-4152-93f6-798c94795229",
   "metadata": {},
   "outputs": [
    {
     "data": {
      "text/plain": [
       "D      1418\n",
       "C      1037\n",
       "L       848\n",
       "R       832\n",
       "G       463\n",
       "F        28\n",
       "L/C       1\n",
       "Name: pos, dtype: int64"
      ]
     },
     "execution_count": 33,
     "metadata": {},
     "output_type": "execute_result"
    }
   ],
   "source": [
    "master['pos'].value_counts()"
   ]
  },
  {
   "cell_type": "code",
   "execution_count": 34,
   "id": "09d75c1c-b74b-43f8-bb65-e6fc9b5f1234",
   "metadata": {},
   "outputs": [
    {
     "data": {
      "text/plain": [
       "['C', 'L', 'L', 'D', 'C', ..., 'R', 'L', 'L', 'C', 'D']\n",
       "Length: 4627\n",
       "Categories (7, object): ['C', 'D', 'F', 'G', 'L', 'L/C', 'R']"
      ]
     },
     "execution_count": 34,
     "metadata": {},
     "output_type": "execute_result"
    }
   ],
   "source": [
    "pd.Categorical(master['pos'])"
   ]
  },
  {
   "cell_type": "code",
   "execution_count": 36,
   "id": "afa869dc-b364-4e92-9d89-63c96e890a12",
   "metadata": {},
   "outputs": [],
   "source": [
    "def make_categorical(df, col_name):\n",
    "    df.loc[:, col_name] = pd.Categorical(df[col_name])"
   ]
  },
  {
   "cell_type": "code",
   "execution_count": 37,
   "id": "4bf5f3d6-c565-4bb4-a650-984734833f16",
   "metadata": {},
   "outputs": [
    {
     "name": "stderr",
     "output_type": "stream",
     "text": [
      "/tmp/ipykernel_9779/772065985.py:2: SettingWithCopyWarning: \n",
      "A value is trying to be set on a copy of a slice from a DataFrame.\n",
      "Try using .loc[row_indexer,col_indexer] = value instead\n",
      "\n",
      "See the caveats in the documentation: https://pandas.pydata.org/pandas-docs/stable/user_guide/indexing.html#returning-a-view-versus-a-copy\n",
      "  df.loc[:, col_name] = pd.Categorical(df[col_name])\n",
      "/tmp/ipykernel_9779/772065985.py:2: FutureWarning: In a future version, `df.iloc[:, i] = newvals` will attempt to set the values inplace instead of always setting a new array. To retain the old behavior, use either `df[df.columns[i]] = newvals` or, if columns are non-unique, `df.isetitem(i, newvals)`\n",
      "  df.loc[:, col_name] = pd.Categorical(df[col_name])\n"
     ]
    }
   ],
   "source": [
    "make_categorical(master, 'pos')"
   ]
  },
  {
   "cell_type": "code",
   "execution_count": 38,
   "id": "c0df5919-f2ae-4667-8839-52af5c7561de",
   "metadata": {},
   "outputs": [
    {
     "data": {
      "text/plain": [
       "'1.5.0'"
      ]
     },
     "execution_count": 38,
     "metadata": {},
     "output_type": "execute_result"
    }
   ],
   "source": [
    "pd.__version__"
   ]
  },
  {
   "cell_type": "code",
   "execution_count": 39,
   "id": "a6ca9624-7eba-4509-a484-64ee6694afbe",
   "metadata": {},
   "outputs": [
    {
     "data": {
      "text/html": [
       "<div>\n",
       "<style scoped>\n",
       "    .dataframe tbody tr th:only-of-type {\n",
       "        vertical-align: middle;\n",
       "    }\n",
       "\n",
       "    .dataframe tbody tr th {\n",
       "        vertical-align: top;\n",
       "    }\n",
       "\n",
       "    .dataframe thead th {\n",
       "        text-align: right;\n",
       "    }\n",
       "</style>\n",
       "<table border=\"1\" class=\"dataframe\">\n",
       "  <thead>\n",
       "    <tr style=\"text-align: right;\">\n",
       "      <th></th>\n",
       "      <th>playerID</th>\n",
       "      <th>firstName</th>\n",
       "      <th>lastName</th>\n",
       "      <th>pos</th>\n",
       "      <th>birthYear</th>\n",
       "      <th>birthMon</th>\n",
       "      <th>birthDay</th>\n",
       "      <th>birthCountry</th>\n",
       "      <th>birthState</th>\n",
       "      <th>birthCity</th>\n",
       "    </tr>\n",
       "  </thead>\n",
       "  <tbody>\n",
       "    <tr>\n",
       "      <th>0</th>\n",
       "      <td>aaltoan01</td>\n",
       "      <td>Antti</td>\n",
       "      <td>Aalto</td>\n",
       "      <td>C</td>\n",
       "      <td>1975.0</td>\n",
       "      <td>3.0</td>\n",
       "      <td>4.0</td>\n",
       "      <td>Finland</td>\n",
       "      <td>NaN</td>\n",
       "      <td>Lappeenranta</td>\n",
       "    </tr>\n",
       "    <tr>\n",
       "      <th>4</th>\n",
       "      <td>abdelju01</td>\n",
       "      <td>Justin</td>\n",
       "      <td>Abdelkader</td>\n",
       "      <td>L</td>\n",
       "      <td>1987.0</td>\n",
       "      <td>2.0</td>\n",
       "      <td>25.0</td>\n",
       "      <td>USA</td>\n",
       "      <td>MI</td>\n",
       "      <td>Muskegon</td>\n",
       "    </tr>\n",
       "    <tr>\n",
       "      <th>9</th>\n",
       "      <td>abidra01</td>\n",
       "      <td>Ramzi</td>\n",
       "      <td>Abid</td>\n",
       "      <td>L</td>\n",
       "      <td>1980.0</td>\n",
       "      <td>3.0</td>\n",
       "      <td>24.0</td>\n",
       "      <td>Canada</td>\n",
       "      <td>QC</td>\n",
       "      <td>Montreal</td>\n",
       "    </tr>\n",
       "    <tr>\n",
       "      <th>11</th>\n",
       "      <td>abrahth01</td>\n",
       "      <td>Thommy</td>\n",
       "      <td>Abrahamsson</td>\n",
       "      <td>D</td>\n",
       "      <td>1947.0</td>\n",
       "      <td>4.0</td>\n",
       "      <td>12.0</td>\n",
       "      <td>Sweden</td>\n",
       "      <td>NaN</td>\n",
       "      <td>Leksand</td>\n",
       "    </tr>\n",
       "    <tr>\n",
       "      <th>14</th>\n",
       "      <td>actonke01</td>\n",
       "      <td>Keith</td>\n",
       "      <td>Acton</td>\n",
       "      <td>C</td>\n",
       "      <td>1958.0</td>\n",
       "      <td>4.0</td>\n",
       "      <td>15.0</td>\n",
       "      <td>Canada</td>\n",
       "      <td>ON</td>\n",
       "      <td>Stouffville</td>\n",
       "    </tr>\n",
       "  </tbody>\n",
       "</table>\n",
       "</div>"
      ],
      "text/plain": [
       "     playerID firstName     lastName pos  birthYear  birthMon  birthDay  \\\n",
       "0   aaltoan01     Antti        Aalto   C     1975.0       3.0       4.0   \n",
       "4   abdelju01    Justin   Abdelkader   L     1987.0       2.0      25.0   \n",
       "9    abidra01     Ramzi         Abid   L     1980.0       3.0      24.0   \n",
       "11  abrahth01    Thommy  Abrahamsson   D     1947.0       4.0      12.0   \n",
       "14  actonke01     Keith        Acton   C     1958.0       4.0      15.0   \n",
       "\n",
       "   birthCountry birthState     birthCity  \n",
       "0       Finland        NaN  Lappeenranta  \n",
       "4           USA         MI      Muskegon  \n",
       "9        Canada         QC      Montreal  \n",
       "11       Sweden        NaN       Leksand  \n",
       "14       Canada         ON   Stouffville  "
      ]
     },
     "execution_count": 39,
     "metadata": {},
     "output_type": "execute_result"
    }
   ],
   "source": [
    "master.head()"
   ]
  },
  {
   "cell_type": "code",
   "execution_count": 40,
   "id": "72cf25a3-fbdd-460e-a63f-02c21dcd0274",
   "metadata": {},
   "outputs": [
    {
     "name": "stdout",
     "output_type": "stream",
     "text": [
      "0.36 MiB\n"
     ]
    }
   ],
   "source": [
    "memory_usage(master)"
   ]
  },
  {
   "cell_type": "code",
   "execution_count": 41,
   "id": "1ff19d3c-4719-4ed1-975e-d2fb630bdbee",
   "metadata": {},
   "outputs": [
    {
     "name": "stderr",
     "output_type": "stream",
     "text": [
      "/tmp/ipykernel_9779/772065985.py:2: SettingWithCopyWarning: \n",
      "A value is trying to be set on a copy of a slice from a DataFrame.\n",
      "Try using .loc[row_indexer,col_indexer] = value instead\n",
      "\n",
      "See the caveats in the documentation: https://pandas.pydata.org/pandas-docs/stable/user_guide/indexing.html#returning-a-view-versus-a-copy\n",
      "  df.loc[:, col_name] = pd.Categorical(df[col_name])\n",
      "/tmp/ipykernel_9779/772065985.py:2: FutureWarning: In a future version, `df.iloc[:, i] = newvals` will attempt to set the values inplace instead of always setting a new array. To retain the old behavior, use either `df[df.columns[i]] = newvals` or, if columns are non-unique, `df.isetitem(i, newvals)`\n",
      "  df.loc[:, col_name] = pd.Categorical(df[col_name])\n"
     ]
    }
   ],
   "source": [
    "make_categorical(master, 'birthCountry')\n",
    "make_categorical(master, 'birthState')"
   ]
  },
  {
   "cell_type": "code",
   "execution_count": 42,
   "id": "78c3444c-60af-4795-83b8-a12d62afcca0",
   "metadata": {},
   "outputs": [
    {
     "name": "stdout",
     "output_type": "stream",
     "text": [
      "0.30 MiB\n"
     ]
    }
   ],
   "source": [
    "memory_usage(master)"
   ]
  },
  {
   "cell_type": "code",
   "execution_count": 43,
   "id": "788f03fb-9f21-4e63-a4a9-33ae84f83bd2",
   "metadata": {},
   "outputs": [
    {
     "data": {
      "text/html": [
       "<div>\n",
       "<style scoped>\n",
       "    .dataframe tbody tr th:only-of-type {\n",
       "        vertical-align: middle;\n",
       "    }\n",
       "\n",
       "    .dataframe tbody tr th {\n",
       "        vertical-align: top;\n",
       "    }\n",
       "\n",
       "    .dataframe thead th {\n",
       "        text-align: right;\n",
       "    }\n",
       "</style>\n",
       "<table border=\"1\" class=\"dataframe\">\n",
       "  <thead>\n",
       "    <tr style=\"text-align: right;\">\n",
       "      <th></th>\n",
       "      <th>playerID</th>\n",
       "      <th>firstName</th>\n",
       "      <th>lastName</th>\n",
       "      <th>pos</th>\n",
       "      <th>birthYear</th>\n",
       "      <th>birthMon</th>\n",
       "      <th>birthDay</th>\n",
       "      <th>birthCountry</th>\n",
       "      <th>birthState</th>\n",
       "      <th>birthCity</th>\n",
       "    </tr>\n",
       "  </thead>\n",
       "  <tbody>\n",
       "    <tr>\n",
       "      <th>0</th>\n",
       "      <td>aaltoan01</td>\n",
       "      <td>Antti</td>\n",
       "      <td>Aalto</td>\n",
       "      <td>C</td>\n",
       "      <td>1975.0</td>\n",
       "      <td>3.0</td>\n",
       "      <td>4.0</td>\n",
       "      <td>Finland</td>\n",
       "      <td>NaN</td>\n",
       "      <td>Lappeenranta</td>\n",
       "    </tr>\n",
       "    <tr>\n",
       "      <th>4</th>\n",
       "      <td>abdelju01</td>\n",
       "      <td>Justin</td>\n",
       "      <td>Abdelkader</td>\n",
       "      <td>L</td>\n",
       "      <td>1987.0</td>\n",
       "      <td>2.0</td>\n",
       "      <td>25.0</td>\n",
       "      <td>USA</td>\n",
       "      <td>MI</td>\n",
       "      <td>Muskegon</td>\n",
       "    </tr>\n",
       "    <tr>\n",
       "      <th>9</th>\n",
       "      <td>abidra01</td>\n",
       "      <td>Ramzi</td>\n",
       "      <td>Abid</td>\n",
       "      <td>L</td>\n",
       "      <td>1980.0</td>\n",
       "      <td>3.0</td>\n",
       "      <td>24.0</td>\n",
       "      <td>Canada</td>\n",
       "      <td>QC</td>\n",
       "      <td>Montreal</td>\n",
       "    </tr>\n",
       "    <tr>\n",
       "      <th>11</th>\n",
       "      <td>abrahth01</td>\n",
       "      <td>Thommy</td>\n",
       "      <td>Abrahamsson</td>\n",
       "      <td>D</td>\n",
       "      <td>1947.0</td>\n",
       "      <td>4.0</td>\n",
       "      <td>12.0</td>\n",
       "      <td>Sweden</td>\n",
       "      <td>NaN</td>\n",
       "      <td>Leksand</td>\n",
       "    </tr>\n",
       "    <tr>\n",
       "      <th>14</th>\n",
       "      <td>actonke01</td>\n",
       "      <td>Keith</td>\n",
       "      <td>Acton</td>\n",
       "      <td>C</td>\n",
       "      <td>1958.0</td>\n",
       "      <td>4.0</td>\n",
       "      <td>15.0</td>\n",
       "      <td>Canada</td>\n",
       "      <td>ON</td>\n",
       "      <td>Stouffville</td>\n",
       "    </tr>\n",
       "  </tbody>\n",
       "</table>\n",
       "</div>"
      ],
      "text/plain": [
       "     playerID firstName     lastName pos  birthYear  birthMon  birthDay  \\\n",
       "0   aaltoan01     Antti        Aalto   C     1975.0       3.0       4.0   \n",
       "4   abdelju01    Justin   Abdelkader   L     1987.0       2.0      25.0   \n",
       "9    abidra01     Ramzi         Abid   L     1980.0       3.0      24.0   \n",
       "11  abrahth01    Thommy  Abrahamsson   D     1947.0       4.0      12.0   \n",
       "14  actonke01     Keith        Acton   C     1958.0       4.0      15.0   \n",
       "\n",
       "   birthCountry birthState     birthCity  \n",
       "0       Finland        NaN  Lappeenranta  \n",
       "4           USA         MI      Muskegon  \n",
       "9        Canada         QC      Montreal  \n",
       "11       Sweden        NaN       Leksand  \n",
       "14       Canada         ON   Stouffville  "
      ]
     },
     "execution_count": 43,
     "metadata": {},
     "output_type": "execute_result"
    }
   ],
   "source": [
    "master.head()\n"
   ]
  },
  {
   "cell_type": "code",
   "execution_count": 45,
   "id": "57f0b13b-6926-4346-bb1f-2b72b7f767c7",
   "metadata": {},
   "outputs": [
    {
     "data": {
      "text/html": [
       "<div>\n",
       "<style scoped>\n",
       "    .dataframe tbody tr th:only-of-type {\n",
       "        vertical-align: middle;\n",
       "    }\n",
       "\n",
       "    .dataframe tbody tr th {\n",
       "        vertical-align: top;\n",
       "    }\n",
       "\n",
       "    .dataframe thead th {\n",
       "        text-align: right;\n",
       "    }\n",
       "</style>\n",
       "<table border=\"1\" class=\"dataframe\">\n",
       "  <thead>\n",
       "    <tr style=\"text-align: right;\">\n",
       "      <th></th>\n",
       "      <th>firstName</th>\n",
       "      <th>lastName</th>\n",
       "      <th>pos</th>\n",
       "      <th>birthYear</th>\n",
       "      <th>birthMon</th>\n",
       "      <th>birthDay</th>\n",
       "      <th>birthCountry</th>\n",
       "      <th>birthState</th>\n",
       "      <th>birthCity</th>\n",
       "    </tr>\n",
       "    <tr>\n",
       "      <th>playerID</th>\n",
       "      <th></th>\n",
       "      <th></th>\n",
       "      <th></th>\n",
       "      <th></th>\n",
       "      <th></th>\n",
       "      <th></th>\n",
       "      <th></th>\n",
       "      <th></th>\n",
       "      <th></th>\n",
       "    </tr>\n",
       "  </thead>\n",
       "  <tbody>\n",
       "    <tr>\n",
       "      <th>aaltoan01</th>\n",
       "      <td>Antti</td>\n",
       "      <td>Aalto</td>\n",
       "      <td>C</td>\n",
       "      <td>1975.0</td>\n",
       "      <td>3.0</td>\n",
       "      <td>4.0</td>\n",
       "      <td>Finland</td>\n",
       "      <td>NaN</td>\n",
       "      <td>Lappeenranta</td>\n",
       "    </tr>\n",
       "    <tr>\n",
       "      <th>abdelju01</th>\n",
       "      <td>Justin</td>\n",
       "      <td>Abdelkader</td>\n",
       "      <td>L</td>\n",
       "      <td>1987.0</td>\n",
       "      <td>2.0</td>\n",
       "      <td>25.0</td>\n",
       "      <td>USA</td>\n",
       "      <td>MI</td>\n",
       "      <td>Muskegon</td>\n",
       "    </tr>\n",
       "    <tr>\n",
       "      <th>abidra01</th>\n",
       "      <td>Ramzi</td>\n",
       "      <td>Abid</td>\n",
       "      <td>L</td>\n",
       "      <td>1980.0</td>\n",
       "      <td>3.0</td>\n",
       "      <td>24.0</td>\n",
       "      <td>Canada</td>\n",
       "      <td>QC</td>\n",
       "      <td>Montreal</td>\n",
       "    </tr>\n",
       "    <tr>\n",
       "      <th>abrahth01</th>\n",
       "      <td>Thommy</td>\n",
       "      <td>Abrahamsson</td>\n",
       "      <td>D</td>\n",
       "      <td>1947.0</td>\n",
       "      <td>4.0</td>\n",
       "      <td>12.0</td>\n",
       "      <td>Sweden</td>\n",
       "      <td>NaN</td>\n",
       "      <td>Leksand</td>\n",
       "    </tr>\n",
       "    <tr>\n",
       "      <th>actonke01</th>\n",
       "      <td>Keith</td>\n",
       "      <td>Acton</td>\n",
       "      <td>C</td>\n",
       "      <td>1958.0</td>\n",
       "      <td>4.0</td>\n",
       "      <td>15.0</td>\n",
       "      <td>Canada</td>\n",
       "      <td>ON</td>\n",
       "      <td>Stouffville</td>\n",
       "    </tr>\n",
       "  </tbody>\n",
       "</table>\n",
       "</div>"
      ],
      "text/plain": [
       "          firstName     lastName pos  birthYear  birthMon  birthDay  \\\n",
       "playerID                                                              \n",
       "aaltoan01     Antti        Aalto   C     1975.0       3.0       4.0   \n",
       "abdelju01    Justin   Abdelkader   L     1987.0       2.0      25.0   \n",
       "abidra01      Ramzi         Abid   L     1980.0       3.0      24.0   \n",
       "abrahth01    Thommy  Abrahamsson   D     1947.0       4.0      12.0   \n",
       "actonke01     Keith        Acton   C     1958.0       4.0      15.0   \n",
       "\n",
       "          birthCountry birthState     birthCity  \n",
       "playerID                                         \n",
       "aaltoan01      Finland        NaN  Lappeenranta  \n",
       "abdelju01          USA         MI      Muskegon  \n",
       "abidra01        Canada         QC      Montreal  \n",
       "abrahth01       Sweden        NaN       Leksand  \n",
       "actonke01       Canada         ON   Stouffville  "
      ]
     },
     "execution_count": 45,
     "metadata": {},
     "output_type": "execute_result"
    }
   ],
   "source": [
    "master.set_index('playerID', inplace=True)\n",
    "master.head()"
   ]
  },
  {
   "cell_type": "code",
   "execution_count": 46,
   "id": "ae9f532b-4613-485c-92ea-50506787c2d2",
   "metadata": {},
   "outputs": [],
   "source": [
    "master.to_pickle(os.path.join('dataset01', 'master-pickle'))"
   ]
  },
  {
   "cell_type": "markdown",
   "id": "cd53ed59-9633-4805-8c80-4d094c383d6c",
   "metadata": {},
   "source": [
    "## Scoring.csv"
   ]
  },
  {
   "cell_type": "code",
   "execution_count": 47,
   "id": "67ddcd50-ba2b-48fc-8b1f-4c557084f0e0",
   "metadata": {},
   "outputs": [],
   "source": [
    "scoring = pd.read_csv(os.path.join('dataset01', 'Scoring.csv'))"
   ]
  },
  {
   "cell_type": "code",
   "execution_count": 48,
   "id": "04632987-5376-438e-9949-8169921cded7",
   "metadata": {},
   "outputs": [
    {
     "data": {
      "text/plain": [
       "(45967, 31)"
      ]
     },
     "execution_count": 48,
     "metadata": {},
     "output_type": "execute_result"
    }
   ],
   "source": [
    "scoring.shape"
   ]
  },
  {
   "cell_type": "code",
   "execution_count": 51,
   "id": "3186c609-149a-454e-81df-0dd4012c59cb",
   "metadata": {},
   "outputs": [
    {
     "data": {
      "text/html": [
       "<div>\n",
       "<style scoped>\n",
       "    .dataframe tbody tr th:only-of-type {\n",
       "        vertical-align: middle;\n",
       "    }\n",
       "\n",
       "    .dataframe tbody tr th {\n",
       "        vertical-align: top;\n",
       "    }\n",
       "\n",
       "    .dataframe thead th {\n",
       "        text-align: right;\n",
       "    }\n",
       "</style>\n",
       "<table border=\"1\" class=\"dataframe\">\n",
       "  <thead>\n",
       "    <tr style=\"text-align: right;\">\n",
       "      <th></th>\n",
       "      <th>playerID</th>\n",
       "      <th>year</th>\n",
       "      <th>stint</th>\n",
       "      <th>tmID</th>\n",
       "      <th>lgID</th>\n",
       "      <th>pos</th>\n",
       "      <th>GP</th>\n",
       "      <th>G</th>\n",
       "      <th>A</th>\n",
       "      <th>Pts</th>\n",
       "      <th>...</th>\n",
       "      <th>PostA</th>\n",
       "      <th>PostPts</th>\n",
       "      <th>PostPIM</th>\n",
       "      <th>Post+/-</th>\n",
       "      <th>PostPPG</th>\n",
       "      <th>PostPPA</th>\n",
       "      <th>PostSHG</th>\n",
       "      <th>PostSHA</th>\n",
       "      <th>PostGWG</th>\n",
       "      <th>PostSOG</th>\n",
       "    </tr>\n",
       "  </thead>\n",
       "  <tbody>\n",
       "    <tr>\n",
       "      <th>5177</th>\n",
       "      <td>burkema01</td>\n",
       "      <td>1935</td>\n",
       "      <td>1</td>\n",
       "      <td>CHI</td>\n",
       "      <td>NHL</td>\n",
       "      <td>D</td>\n",
       "      <td>40.0</td>\n",
       "      <td>0.0</td>\n",
       "      <td>3.0</td>\n",
       "      <td>3.0</td>\n",
       "      <td>...</td>\n",
       "      <td>0.0</td>\n",
       "      <td>0.0</td>\n",
       "      <td>2.0</td>\n",
       "      <td>NaN</td>\n",
       "      <td>NaN</td>\n",
       "      <td>NaN</td>\n",
       "      <td>NaN</td>\n",
       "      <td>NaN</td>\n",
       "      <td>NaN</td>\n",
       "      <td>NaN</td>\n",
       "    </tr>\n",
       "    <tr>\n",
       "      <th>20902</th>\n",
       "      <td>klimape01</td>\n",
       "      <td>1991</td>\n",
       "      <td>1</td>\n",
       "      <td>EDM</td>\n",
       "      <td>NHL</td>\n",
       "      <td>R</td>\n",
       "      <td>57.0</td>\n",
       "      <td>21.0</td>\n",
       "      <td>13.0</td>\n",
       "      <td>34.0</td>\n",
       "      <td>...</td>\n",
       "      <td>4.0</td>\n",
       "      <td>5.0</td>\n",
       "      <td>8.0</td>\n",
       "      <td>-1.0</td>\n",
       "      <td>0.0</td>\n",
       "      <td>1.0</td>\n",
       "      <td>0.0</td>\n",
       "      <td>0.0</td>\n",
       "      <td>0.0</td>\n",
       "      <td>22.0</td>\n",
       "    </tr>\n",
       "    <tr>\n",
       "      <th>286</th>\n",
       "      <td>alexeni01</td>\n",
       "      <td>2006</td>\n",
       "      <td>2</td>\n",
       "      <td>CHI</td>\n",
       "      <td>NHL</td>\n",
       "      <td>R</td>\n",
       "      <td>15.0</td>\n",
       "      <td>2.0</td>\n",
       "      <td>0.0</td>\n",
       "      <td>2.0</td>\n",
       "      <td>...</td>\n",
       "      <td>NaN</td>\n",
       "      <td>NaN</td>\n",
       "      <td>NaN</td>\n",
       "      <td>NaN</td>\n",
       "      <td>NaN</td>\n",
       "      <td>NaN</td>\n",
       "      <td>NaN</td>\n",
       "      <td>NaN</td>\n",
       "      <td>NaN</td>\n",
       "      <td>NaN</td>\n",
       "    </tr>\n",
       "    <tr>\n",
       "      <th>23587</th>\n",
       "      <td>lemieje01</td>\n",
       "      <td>1976</td>\n",
       "      <td>1</td>\n",
       "      <td>WAS</td>\n",
       "      <td>NHL</td>\n",
       "      <td>D</td>\n",
       "      <td>15.0</td>\n",
       "      <td>4.0</td>\n",
       "      <td>4.0</td>\n",
       "      <td>8.0</td>\n",
       "      <td>...</td>\n",
       "      <td>NaN</td>\n",
       "      <td>NaN</td>\n",
       "      <td>NaN</td>\n",
       "      <td>NaN</td>\n",
       "      <td>NaN</td>\n",
       "      <td>NaN</td>\n",
       "      <td>NaN</td>\n",
       "      <td>NaN</td>\n",
       "      <td>NaN</td>\n",
       "      <td>NaN</td>\n",
       "    </tr>\n",
       "    <tr>\n",
       "      <th>27117</th>\n",
       "      <td>mcdonla01</td>\n",
       "      <td>1979</td>\n",
       "      <td>2</td>\n",
       "      <td>COR</td>\n",
       "      <td>NHL</td>\n",
       "      <td>R</td>\n",
       "      <td>46.0</td>\n",
       "      <td>25.0</td>\n",
       "      <td>20.0</td>\n",
       "      <td>45.0</td>\n",
       "      <td>...</td>\n",
       "      <td>NaN</td>\n",
       "      <td>NaN</td>\n",
       "      <td>NaN</td>\n",
       "      <td>NaN</td>\n",
       "      <td>NaN</td>\n",
       "      <td>NaN</td>\n",
       "      <td>NaN</td>\n",
       "      <td>NaN</td>\n",
       "      <td>NaN</td>\n",
       "      <td>NaN</td>\n",
       "    </tr>\n",
       "  </tbody>\n",
       "</table>\n",
       "<p>5 rows × 31 columns</p>\n",
       "</div>"
      ],
      "text/plain": [
       "        playerID  year  stint tmID lgID pos    GP     G     A   Pts  ...  \\\n",
       "5177   burkema01  1935      1  CHI  NHL   D  40.0   0.0   3.0   3.0  ...   \n",
       "20902  klimape01  1991      1  EDM  NHL   R  57.0  21.0  13.0  34.0  ...   \n",
       "286    alexeni01  2006      2  CHI  NHL   R  15.0   2.0   0.0   2.0  ...   \n",
       "23587  lemieje01  1976      1  WAS  NHL   D  15.0   4.0   4.0   8.0  ...   \n",
       "27117  mcdonla01  1979      2  COR  NHL   R  46.0  25.0  20.0  45.0  ...   \n",
       "\n",
       "       PostA  PostPts  PostPIM  Post+/-  PostPPG  PostPPA  PostSHG  PostSHA  \\\n",
       "5177     0.0      0.0      2.0      NaN      NaN      NaN      NaN      NaN   \n",
       "20902    4.0      5.0      8.0     -1.0      0.0      1.0      0.0      0.0   \n",
       "286      NaN      NaN      NaN      NaN      NaN      NaN      NaN      NaN   \n",
       "23587    NaN      NaN      NaN      NaN      NaN      NaN      NaN      NaN   \n",
       "27117    NaN      NaN      NaN      NaN      NaN      NaN      NaN      NaN   \n",
       "\n",
       "       PostGWG  PostSOG  \n",
       "5177       NaN      NaN  \n",
       "20902      0.0     22.0  \n",
       "286        NaN      NaN  \n",
       "23587      NaN      NaN  \n",
       "27117      NaN      NaN  \n",
       "\n",
       "[5 rows x 31 columns]"
      ]
     },
     "execution_count": 51,
     "metadata": {},
     "output_type": "execute_result"
    }
   ],
   "source": [
    "scoring.sample(5)"
   ]
  },
  {
   "cell_type": "code",
   "execution_count": 52,
   "id": "1f9382df-583d-4bad-a60a-e638275d843a",
   "metadata": {},
   "outputs": [
    {
     "data": {
      "text/plain": [
       "Index(['playerID', 'year', 'stint', 'tmID', 'lgID', 'pos', 'GP', 'G', 'A',\n",
       "       'Pts', 'PIM', '+/-', 'PPG', 'PPA', 'SHG', 'SHA', 'GWG', 'GTG', 'SOG',\n",
       "       'PostGP', 'PostG', 'PostA', 'PostPts', 'PostPIM', 'Post+/-', 'PostPPG',\n",
       "       'PostPPA', 'PostSHG', 'PostSHA', 'PostGWG', 'PostSOG'],\n",
       "      dtype='object')"
      ]
     },
     "execution_count": 52,
     "metadata": {},
     "output_type": "execute_result"
    }
   ],
   "source": [
    "scoring.columns"
   ]
  },
  {
   "cell_type": "code",
   "execution_count": 54,
   "id": "5e8f6f11-b938-43da-aa30-80b15c4bcec5",
   "metadata": {},
   "outputs": [],
   "source": [
    "scoring_orig = scoring.copy()"
   ]
  },
  {
   "cell_type": "code",
   "execution_count": 55,
   "id": "bfb5bf41-5270-4303-a36e-6fee61038a4e",
   "metadata": {},
   "outputs": [
    {
     "name": "stdout",
     "output_type": "stream",
     "text": [
      "10.87 MiB\n"
     ]
    }
   ],
   "source": [
    "memory_usage(scoring)"
   ]
  },
  {
   "cell_type": "code",
   "execution_count": 57,
   "id": "73281dd8-298e-4de4-9851-57b22dba6ce8",
   "metadata": {},
   "outputs": [],
   "source": [
    "scoring = scoring[(scoring['lgID'] == 'NHL') & (scoring['year'] >= 1980)]"
   ]
  },
  {
   "cell_type": "code",
   "execution_count": 58,
   "id": "e09d686e-366f-4370-95e7-93f0ab437031",
   "metadata": {},
   "outputs": [
    {
     "name": "stdout",
     "output_type": "stream",
     "text": [
      "6.99 MiB\n"
     ]
    }
   ],
   "source": [
    "memory_usage(scoring)"
   ]
  },
  {
   "cell_type": "code",
   "execution_count": 60,
   "id": "fd910b47-b1e0-4e82-a5e6-9433631aebe4",
   "metadata": {},
   "outputs": [],
   "source": [
    "scoring = scoring.filter(regex='^(?!(Post|PP|SH)).*')"
   ]
  },
  {
   "cell_type": "code",
   "execution_count": 61,
   "id": "e80d413e-6126-491d-bd13-f563fe8dc419",
   "metadata": {},
   "outputs": [
    {
     "data": {
      "text/plain": [
       "Index(['playerID', 'year', 'stint', 'tmID', 'lgID', 'pos', 'GP', 'G', 'A',\n",
       "       'Pts', 'PIM', '+/-', 'GWG', 'GTG', 'SOG'],\n",
       "      dtype='object')"
      ]
     },
     "execution_count": 61,
     "metadata": {},
     "output_type": "execute_result"
    }
   ],
   "source": [
    "scoring.columns"
   ]
  },
  {
   "cell_type": "code",
   "execution_count": 62,
   "id": "9c75345b-bd45-4f9b-a4cd-3bcd0b9df3c5",
   "metadata": {},
   "outputs": [
    {
     "data": {
      "text/plain": [
       "Index(['playerID', 'year', 'tmID', 'GP', 'G', 'A', 'Pts', 'SOG'], dtype='object')"
      ]
     },
     "execution_count": 62,
     "metadata": {},
     "output_type": "execute_result"
    }
   ],
   "source": [
    "scoring = scoring.iloc[:, [0, 1, 3, 6, 7, 8 , 9, 14]]\n",
    "scoring.columns"
   ]
  },
  {
   "cell_type": "code",
   "execution_count": 63,
   "id": "f6500e24-672f-4e94-8f10-6c49b32b7329",
   "metadata": {},
   "outputs": [
    {
     "data": {
      "text/plain": [
       "PIT    1166\n",
       "NYR    1160\n",
       "TOR    1159\n",
       "LAK    1158\n",
       "NYI    1155\n",
       "BOS    1147\n",
       "PHI    1133\n",
       "CAL    1121\n",
       "WAS    1120\n",
       "EDM    1120\n",
       "CHI    1114\n",
       "STL    1107\n",
       "VAN    1096\n",
       "MTL    1082\n",
       "BUF    1080\n",
       "DET    1039\n",
       "NJD     989\n",
       "TBL     715\n",
       "SJS     679\n",
       "OTT     673\n",
       "FLO     656\n",
       "DAL     637\n",
       "HAR     633\n",
       "WIN     584\n",
       "QUE     572\n",
       "PHO     557\n",
       "COL     548\n",
       "MNS     507\n",
       "CAR     464\n",
       "NAS     463\n",
       "CBS     423\n",
       "ANA     422\n",
       "ATL     410\n",
       "MIN     384\n",
       "AND     224\n",
       "COR      81\n",
       "WPG      38\n",
       "Name: tmID, dtype: int64"
      ]
     },
     "execution_count": 63,
     "metadata": {},
     "output_type": "execute_result"
    }
   ],
   "source": [
    "scoring['tmID'].value_counts()"
   ]
  },
  {
   "cell_type": "code",
   "execution_count": 64,
   "id": "942aee91-4810-45d7-a417-626ffe67fcd0",
   "metadata": {},
   "outputs": [
    {
     "name": "stderr",
     "output_type": "stream",
     "text": [
      "/tmp/ipykernel_9779/772065985.py:2: FutureWarning: In a future version, `df.iloc[:, i] = newvals` will attempt to set the values inplace instead of always setting a new array. To retain the old behavior, use either `df[df.columns[i]] = newvals` or, if columns are non-unique, `df.isetitem(i, newvals)`\n",
      "  df.loc[:, col_name] = pd.Categorical(df[col_name])\n"
     ]
    }
   ],
   "source": [
    "make_categorical(scoring, 'tmID')"
   ]
  },
  {
   "cell_type": "code",
   "execution_count": 65,
   "id": "c809ec6e-c832-4229-82a8-c1852ffe783c",
   "metadata": {},
   "outputs": [
    {
     "name": "stdout",
     "output_type": "stream",
     "text": [
      "1.78 MiB\n"
     ]
    }
   ],
   "source": [
    "memory_usage(scoring)"
   ]
  },
  {
   "cell_type": "code",
   "execution_count": 66,
   "id": "e24c26d2-8a57-4038-b08b-838082ab5c55",
   "metadata": {},
   "outputs": [
    {
     "data": {
      "text/html": [
       "<div>\n",
       "<style scoped>\n",
       "    .dataframe tbody tr th:only-of-type {\n",
       "        vertical-align: middle;\n",
       "    }\n",
       "\n",
       "    .dataframe tbody tr th {\n",
       "        vertical-align: top;\n",
       "    }\n",
       "\n",
       "    .dataframe thead th {\n",
       "        text-align: right;\n",
       "    }\n",
       "</style>\n",
       "<table border=\"1\" class=\"dataframe\">\n",
       "  <thead>\n",
       "    <tr style=\"text-align: right;\">\n",
       "      <th></th>\n",
       "      <th>playerID</th>\n",
       "      <th>year</th>\n",
       "      <th>tmID</th>\n",
       "      <th>GP</th>\n",
       "      <th>G</th>\n",
       "      <th>A</th>\n",
       "      <th>Pts</th>\n",
       "      <th>SOG</th>\n",
       "    </tr>\n",
       "  </thead>\n",
       "  <tbody>\n",
       "    <tr>\n",
       "      <th>0</th>\n",
       "      <td>aaltoan01</td>\n",
       "      <td>1997</td>\n",
       "      <td>ANA</td>\n",
       "      <td>3.0</td>\n",
       "      <td>0.0</td>\n",
       "      <td>0.0</td>\n",
       "      <td>0.0</td>\n",
       "      <td>1.0</td>\n",
       "    </tr>\n",
       "    <tr>\n",
       "      <th>1</th>\n",
       "      <td>aaltoan01</td>\n",
       "      <td>1998</td>\n",
       "      <td>ANA</td>\n",
       "      <td>73.0</td>\n",
       "      <td>3.0</td>\n",
       "      <td>5.0</td>\n",
       "      <td>8.0</td>\n",
       "      <td>61.0</td>\n",
       "    </tr>\n",
       "    <tr>\n",
       "      <th>2</th>\n",
       "      <td>aaltoan01</td>\n",
       "      <td>1999</td>\n",
       "      <td>ANA</td>\n",
       "      <td>63.0</td>\n",
       "      <td>7.0</td>\n",
       "      <td>11.0</td>\n",
       "      <td>18.0</td>\n",
       "      <td>102.0</td>\n",
       "    </tr>\n",
       "    <tr>\n",
       "      <th>3</th>\n",
       "      <td>aaltoan01</td>\n",
       "      <td>2000</td>\n",
       "      <td>ANA</td>\n",
       "      <td>12.0</td>\n",
       "      <td>1.0</td>\n",
       "      <td>1.0</td>\n",
       "      <td>2.0</td>\n",
       "      <td>18.0</td>\n",
       "    </tr>\n",
       "    <tr>\n",
       "      <th>7</th>\n",
       "      <td>abdelju01</td>\n",
       "      <td>2007</td>\n",
       "      <td>DET</td>\n",
       "      <td>2.0</td>\n",
       "      <td>0.0</td>\n",
       "      <td>0.0</td>\n",
       "      <td>0.0</td>\n",
       "      <td>6.0</td>\n",
       "    </tr>\n",
       "  </tbody>\n",
       "</table>\n",
       "</div>"
      ],
      "text/plain": [
       "    playerID  year tmID    GP    G     A   Pts    SOG\n",
       "0  aaltoan01  1997  ANA   3.0  0.0   0.0   0.0    1.0\n",
       "1  aaltoan01  1998  ANA  73.0  3.0   5.0   8.0   61.0\n",
       "2  aaltoan01  1999  ANA  63.0  7.0  11.0  18.0  102.0\n",
       "3  aaltoan01  2000  ANA  12.0  1.0   1.0   2.0   18.0\n",
       "7  abdelju01  2007  DET   2.0  0.0   0.0   0.0    6.0"
      ]
     },
     "execution_count": 66,
     "metadata": {},
     "output_type": "execute_result"
    }
   ],
   "source": [
    "scoring.head()"
   ]
  },
  {
   "cell_type": "code",
   "execution_count": 67,
   "id": "ab7ba8c8-7b79-456f-9374-0cf203ceacb5",
   "metadata": {},
   "outputs": [],
   "source": [
    "scoring.reset_index(drop=True, inplace=True)"
   ]
  },
  {
   "cell_type": "code",
   "execution_count": 68,
   "id": "52bf83b7-b285-444e-b3f7-21f533978aab",
   "metadata": {},
   "outputs": [
    {
     "data": {
      "text/html": [
       "<div>\n",
       "<style scoped>\n",
       "    .dataframe tbody tr th:only-of-type {\n",
       "        vertical-align: middle;\n",
       "    }\n",
       "\n",
       "    .dataframe tbody tr th {\n",
       "        vertical-align: top;\n",
       "    }\n",
       "\n",
       "    .dataframe thead th {\n",
       "        text-align: right;\n",
       "    }\n",
       "</style>\n",
       "<table border=\"1\" class=\"dataframe\">\n",
       "  <thead>\n",
       "    <tr style=\"text-align: right;\">\n",
       "      <th></th>\n",
       "      <th>playerID</th>\n",
       "      <th>year</th>\n",
       "      <th>tmID</th>\n",
       "      <th>GP</th>\n",
       "      <th>G</th>\n",
       "      <th>A</th>\n",
       "      <th>Pts</th>\n",
       "      <th>SOG</th>\n",
       "    </tr>\n",
       "  </thead>\n",
       "  <tbody>\n",
       "    <tr>\n",
       "      <th>0</th>\n",
       "      <td>aaltoan01</td>\n",
       "      <td>1997</td>\n",
       "      <td>ANA</td>\n",
       "      <td>3.0</td>\n",
       "      <td>0.0</td>\n",
       "      <td>0.0</td>\n",
       "      <td>0.0</td>\n",
       "      <td>1.0</td>\n",
       "    </tr>\n",
       "    <tr>\n",
       "      <th>1</th>\n",
       "      <td>aaltoan01</td>\n",
       "      <td>1998</td>\n",
       "      <td>ANA</td>\n",
       "      <td>73.0</td>\n",
       "      <td>3.0</td>\n",
       "      <td>5.0</td>\n",
       "      <td>8.0</td>\n",
       "      <td>61.0</td>\n",
       "    </tr>\n",
       "    <tr>\n",
       "      <th>2</th>\n",
       "      <td>aaltoan01</td>\n",
       "      <td>1999</td>\n",
       "      <td>ANA</td>\n",
       "      <td>63.0</td>\n",
       "      <td>7.0</td>\n",
       "      <td>11.0</td>\n",
       "      <td>18.0</td>\n",
       "      <td>102.0</td>\n",
       "    </tr>\n",
       "    <tr>\n",
       "      <th>3</th>\n",
       "      <td>aaltoan01</td>\n",
       "      <td>2000</td>\n",
       "      <td>ANA</td>\n",
       "      <td>12.0</td>\n",
       "      <td>1.0</td>\n",
       "      <td>1.0</td>\n",
       "      <td>2.0</td>\n",
       "      <td>18.0</td>\n",
       "    </tr>\n",
       "    <tr>\n",
       "      <th>4</th>\n",
       "      <td>abdelju01</td>\n",
       "      <td>2007</td>\n",
       "      <td>DET</td>\n",
       "      <td>2.0</td>\n",
       "      <td>0.0</td>\n",
       "      <td>0.0</td>\n",
       "      <td>0.0</td>\n",
       "      <td>6.0</td>\n",
       "    </tr>\n",
       "  </tbody>\n",
       "</table>\n",
       "</div>"
      ],
      "text/plain": [
       "    playerID  year tmID    GP    G     A   Pts    SOG\n",
       "0  aaltoan01  1997  ANA   3.0  0.0   0.0   0.0    1.0\n",
       "1  aaltoan01  1998  ANA  73.0  3.0   5.0   8.0   61.0\n",
       "2  aaltoan01  1999  ANA  63.0  7.0  11.0  18.0  102.0\n",
       "3  aaltoan01  2000  ANA  12.0  1.0   1.0   2.0   18.0\n",
       "4  abdelju01  2007  DET   2.0  0.0   0.0   0.0    6.0"
      ]
     },
     "execution_count": 68,
     "metadata": {},
     "output_type": "execute_result"
    }
   ],
   "source": [
    "scoring.head()"
   ]
  },
  {
   "cell_type": "code",
   "execution_count": 69,
   "id": "d9aef471-706c-4abe-97d6-e3f149f27932",
   "metadata": {},
   "outputs": [],
   "source": [
    "scoring.to_pickle(os.path.join('dataset01', 'scoring.pickle'))"
   ]
  },
  {
   "cell_type": "markdown",
   "id": "544cfcee-2cb9-4317-86c9-bc80ea7ce324",
   "metadata": {},
   "source": [
    "## Teams"
   ]
  },
  {
   "cell_type": "code",
   "execution_count": 73,
   "id": "a1d00225-cb03-4ba1-a1c8-af45c1226a7f",
   "metadata": {},
   "outputs": [
    {
     "data": {
      "text/plain": [
       "(1519, 27)"
      ]
     },
     "execution_count": 73,
     "metadata": {},
     "output_type": "execute_result"
    }
   ],
   "source": [
    "teams = pd.read_csv(os.path.join('dataset01', 'Teams.csv'))\n",
    "teams.shape"
   ]
  },
  {
   "cell_type": "code",
   "execution_count": 74,
   "id": "e8b3a514-4f6b-43f4-a761-c9e723d8f509",
   "metadata": {},
   "outputs": [
    {
     "data": {
      "text/plain": [
       "Index(['year', 'lgID', 'tmID', 'franchID', 'confID', 'divID', 'rank',\n",
       "       'playoff', 'G', 'W', 'L', 'T', 'OTL', 'Pts', 'SoW', 'SoL', 'GF', 'GA',\n",
       "       'name', 'PIM', 'BenchMinor', 'PPG', 'PPC', 'SHA', 'PKG', 'PKC', 'SHF'],\n",
       "      dtype='object')"
      ]
     },
     "execution_count": 74,
     "metadata": {},
     "output_type": "execute_result"
    }
   ],
   "source": [
    "teams.columns"
   ]
  },
  {
   "cell_type": "code",
   "execution_count": 75,
   "id": "c1060f9a-9c0f-4806-abb8-e1b3ea515d30",
   "metadata": {},
   "outputs": [
    {
     "data": {
      "text/html": [
       "<div>\n",
       "<style scoped>\n",
       "    .dataframe tbody tr th:only-of-type {\n",
       "        vertical-align: middle;\n",
       "    }\n",
       "\n",
       "    .dataframe tbody tr th {\n",
       "        vertical-align: top;\n",
       "    }\n",
       "\n",
       "    .dataframe thead th {\n",
       "        text-align: right;\n",
       "    }\n",
       "</style>\n",
       "<table border=\"1\" class=\"dataframe\">\n",
       "  <thead>\n",
       "    <tr style=\"text-align: right;\">\n",
       "      <th></th>\n",
       "      <th>year</th>\n",
       "      <th>lgID</th>\n",
       "      <th>tmID</th>\n",
       "      <th>franchID</th>\n",
       "      <th>confID</th>\n",
       "      <th>divID</th>\n",
       "      <th>rank</th>\n",
       "      <th>playoff</th>\n",
       "      <th>G</th>\n",
       "      <th>W</th>\n",
       "      <th>...</th>\n",
       "      <th>GA</th>\n",
       "      <th>name</th>\n",
       "      <th>PIM</th>\n",
       "      <th>BenchMinor</th>\n",
       "      <th>PPG</th>\n",
       "      <th>PPC</th>\n",
       "      <th>SHA</th>\n",
       "      <th>PKG</th>\n",
       "      <th>PKC</th>\n",
       "      <th>SHF</th>\n",
       "    </tr>\n",
       "  </thead>\n",
       "  <tbody>\n",
       "    <tr>\n",
       "      <th>1113</th>\n",
       "      <td>1997</td>\n",
       "      <td>NHL</td>\n",
       "      <td>CHI</td>\n",
       "      <td>CHI</td>\n",
       "      <td>WC</td>\n",
       "      <td>CE</td>\n",
       "      <td>5</td>\n",
       "      <td>NaN</td>\n",
       "      <td>82</td>\n",
       "      <td>30</td>\n",
       "      <td>...</td>\n",
       "      <td>199</td>\n",
       "      <td>Chicago Blackhawks</td>\n",
       "      <td>1546.0</td>\n",
       "      <td>12.0</td>\n",
       "      <td>47.0</td>\n",
       "      <td>364.0</td>\n",
       "      <td>5.0</td>\n",
       "      <td>58.0</td>\n",
       "      <td>381.0</td>\n",
       "      <td>13.0</td>\n",
       "    </tr>\n",
       "    <tr>\n",
       "      <th>753</th>\n",
       "      <td>1981</td>\n",
       "      <td>NHL</td>\n",
       "      <td>DET</td>\n",
       "      <td>DET</td>\n",
       "      <td>CC</td>\n",
       "      <td>NO</td>\n",
       "      <td>6</td>\n",
       "      <td>NaN</td>\n",
       "      <td>80</td>\n",
       "      <td>21</td>\n",
       "      <td>...</td>\n",
       "      <td>351</td>\n",
       "      <td>Detroit Red Wings</td>\n",
       "      <td>1250.0</td>\n",
       "      <td>20.0</td>\n",
       "      <td>43.0</td>\n",
       "      <td>257.0</td>\n",
       "      <td>6.0</td>\n",
       "      <td>75.0</td>\n",
       "      <td>284.0</td>\n",
       "      <td>10.0</td>\n",
       "    </tr>\n",
       "    <tr>\n",
       "      <th>818</th>\n",
       "      <td>1984</td>\n",
       "      <td>NHL</td>\n",
       "      <td>LAK</td>\n",
       "      <td>LAK</td>\n",
       "      <td>CC</td>\n",
       "      <td>SM</td>\n",
       "      <td>4</td>\n",
       "      <td>DSF</td>\n",
       "      <td>80</td>\n",
       "      <td>34</td>\n",
       "      <td>...</td>\n",
       "      <td>326</td>\n",
       "      <td>Los Angeles Kings</td>\n",
       "      <td>1413.0</td>\n",
       "      <td>26.0</td>\n",
       "      <td>87.0</td>\n",
       "      <td>370.0</td>\n",
       "      <td>13.0</td>\n",
       "      <td>54.0</td>\n",
       "      <td>291.0</td>\n",
       "      <td>9.0</td>\n",
       "    </tr>\n",
       "    <tr>\n",
       "      <th>1187</th>\n",
       "      <td>1999</td>\n",
       "      <td>NHL</td>\n",
       "      <td>VAN</td>\n",
       "      <td>VAN</td>\n",
       "      <td>WC</td>\n",
       "      <td>NW</td>\n",
       "      <td>3</td>\n",
       "      <td>NaN</td>\n",
       "      <td>82</td>\n",
       "      <td>30</td>\n",
       "      <td>...</td>\n",
       "      <td>237</td>\n",
       "      <td>Vancouver Canucks</td>\n",
       "      <td>1047.0</td>\n",
       "      <td>22.0</td>\n",
       "      <td>51.0</td>\n",
       "      <td>323.0</td>\n",
       "      <td>7.0</td>\n",
       "      <td>63.0</td>\n",
       "      <td>322.0</td>\n",
       "      <td>9.0</td>\n",
       "    </tr>\n",
       "    <tr>\n",
       "      <th>726</th>\n",
       "      <td>1979</td>\n",
       "      <td>NHL</td>\n",
       "      <td>WIN</td>\n",
       "      <td>PHO</td>\n",
       "      <td>CC</td>\n",
       "      <td>SM</td>\n",
       "      <td>5</td>\n",
       "      <td>NaN</td>\n",
       "      <td>80</td>\n",
       "      <td>20</td>\n",
       "      <td>...</td>\n",
       "      <td>314</td>\n",
       "      <td>Winnipeg Jets</td>\n",
       "      <td>1251.0</td>\n",
       "      <td>16.0</td>\n",
       "      <td>63.0</td>\n",
       "      <td>336.0</td>\n",
       "      <td>10.0</td>\n",
       "      <td>63.0</td>\n",
       "      <td>275.0</td>\n",
       "      <td>4.0</td>\n",
       "    </tr>\n",
       "  </tbody>\n",
       "</table>\n",
       "<p>5 rows × 27 columns</p>\n",
       "</div>"
      ],
      "text/plain": [
       "      year lgID tmID franchID confID divID  rank playoff   G   W  ...   GA  \\\n",
       "1113  1997  NHL  CHI      CHI     WC    CE     5     NaN  82  30  ...  199   \n",
       "753   1981  NHL  DET      DET     CC    NO     6     NaN  80  21  ...  351   \n",
       "818   1984  NHL  LAK      LAK     CC    SM     4     DSF  80  34  ...  326   \n",
       "1187  1999  NHL  VAN      VAN     WC    NW     3     NaN  82  30  ...  237   \n",
       "726   1979  NHL  WIN      PHO     CC    SM     5     NaN  80  20  ...  314   \n",
       "\n",
       "                    name     PIM  BenchMinor   PPG    PPC   SHA   PKG    PKC  \\\n",
       "1113  Chicago Blackhawks  1546.0        12.0  47.0  364.0   5.0  58.0  381.0   \n",
       "753    Detroit Red Wings  1250.0        20.0  43.0  257.0   6.0  75.0  284.0   \n",
       "818    Los Angeles Kings  1413.0        26.0  87.0  370.0  13.0  54.0  291.0   \n",
       "1187   Vancouver Canucks  1047.0        22.0  51.0  323.0   7.0  63.0  322.0   \n",
       "726        Winnipeg Jets  1251.0        16.0  63.0  336.0  10.0  63.0  275.0   \n",
       "\n",
       "       SHF  \n",
       "1113  13.0  \n",
       "753   10.0  \n",
       "818    9.0  \n",
       "1187   9.0  \n",
       "726    4.0  \n",
       "\n",
       "[5 rows x 27 columns]"
      ]
     },
     "execution_count": 75,
     "metadata": {},
     "output_type": "execute_result"
    }
   ],
   "source": [
    "teams.sample(5)"
   ]
  },
  {
   "cell_type": "code",
   "execution_count": 76,
   "id": "2b3ad575-aa6f-48b4-b4fb-877e4135071a",
   "metadata": {},
   "outputs": [
    {
     "name": "stdout",
     "output_type": "stream",
     "text": [
      "0.31 MiB\n"
     ]
    }
   ],
   "source": [
    "memory_usage(teams)"
   ]
  },
  {
   "cell_type": "code",
   "execution_count": 77,
   "id": "b109acf3-a181-4649-9fab-dde490e4a868",
   "metadata": {},
   "outputs": [],
   "source": [
    "teams_orig = teams.copy()"
   ]
  },
  {
   "cell_type": "code",
   "execution_count": 78,
   "id": "5e04d060-31a0-48e9-85ba-94ee677ee27f",
   "metadata": {},
   "outputs": [
    {
     "name": "stdout",
     "output_type": "stream",
     "text": [
      "0.02 MiB\n"
     ]
    }
   ],
   "source": [
    "teams = teams[(teams['lgID'] == 'NHL') & (teams['year'] >= 1980)]\n",
    "teams = teams[['year', 'tmID', 'name']]\n",
    "memory_usage(teams)"
   ]
  },
  {
   "cell_type": "code",
   "execution_count": 79,
   "id": "dbf32963-f1f9-4953-9e55-656131467e04",
   "metadata": {},
   "outputs": [
    {
     "data": {
      "text/plain": [
       "year    31\n",
       "tmID    37\n",
       "name    37\n",
       "dtype: int64"
      ]
     },
     "execution_count": 79,
     "metadata": {},
     "output_type": "execute_result"
    }
   ],
   "source": [
    "teams.nunique()"
   ]
  },
  {
   "cell_type": "code",
   "execution_count": 80,
   "id": "03cc0697-9b20-47a4-a0b5-ce49761fe738",
   "metadata": {},
   "outputs": [
    {
     "name": "stderr",
     "output_type": "stream",
     "text": [
      "/tmp/ipykernel_9779/772065985.py:2: FutureWarning: In a future version, `df.iloc[:, i] = newvals` will attempt to set the values inplace instead of always setting a new array. To retain the old behavior, use either `df[df.columns[i]] = newvals` or, if columns are non-unique, `df.isetitem(i, newvals)`\n",
      "  df.loc[:, col_name] = pd.Categorical(df[col_name])\n"
     ]
    }
   ],
   "source": [
    "make_categorical(teams, 'tmID')"
   ]
  },
  {
   "cell_type": "code",
   "execution_count": 81,
   "id": "b2eaa6c5-6b0a-40af-b376-63d02937fff6",
   "metadata": {},
   "outputs": [],
   "source": [
    "teams.to_pickle(os.path.join('dataset01', 'teams.pickle'))"
   ]
  },
  {
   "cell_type": "markdown",
   "id": "dfe7467c-831e-42b4-a9db-d84d49876295",
   "metadata": {},
   "source": [
    "## Team Splits"
   ]
  },
  {
   "cell_type": "code",
   "execution_count": 82,
   "id": "2061fbaa-c57e-4e5a-b6cf-2d5a3c57169a",
   "metadata": {},
   "outputs": [
    {
     "data": {
      "text/plain": [
       "(1519, 43)"
      ]
     },
     "execution_count": 82,
     "metadata": {},
     "output_type": "execute_result"
    }
   ],
   "source": [
    "team_splits = pd.read_csv(os.path.join('dataset01', 'TeamSplits.csv'))\n",
    "team_splits.shape"
   ]
  },
  {
   "cell_type": "code",
   "execution_count": 83,
   "id": "e3eab990-3288-49ea-aa9d-77dac2f56dde",
   "metadata": {},
   "outputs": [
    {
     "name": "stdout",
     "output_type": "stream",
     "text": [
      "0.50 MiB\n"
     ]
    }
   ],
   "source": [
    "memory_usage(team_splits)"
   ]
  },
  {
   "cell_type": "code",
   "execution_count": 84,
   "id": "8968ab28-a9aa-4033-a68a-02d55029100b",
   "metadata": {},
   "outputs": [],
   "source": [
    "team_splits_orig = team_splits.copy()"
   ]
  },
  {
   "cell_type": "code",
   "execution_count": 85,
   "id": "0271650e-1ba5-4985-8601-adb4dd274ec4",
   "metadata": {},
   "outputs": [
    {
     "data": {
      "text/plain": [
       "Index(['year', 'lgID', 'tmID', 'hW', 'hL', 'hT', 'hOTL', 'rW', 'rL', 'rT',\n",
       "       'rOTL', 'SepW', 'SepL', 'SepT', 'SepOL', 'OctW', 'OctL', 'OctT',\n",
       "       'OctOL', 'NovW', 'NovL', 'NovT', 'NovOL', 'DecW', 'DecL', 'DecT',\n",
       "       'DecOL', 'JanW', 'JanL', 'JanT', 'JanOL', 'FebW', 'FebL', 'FebT',\n",
       "       'FebOL', 'MarW', 'MarL', 'MarT', 'MarOL', 'AprW', 'AprL', 'AprT',\n",
       "       'AprOL'],\n",
       "      dtype='object')"
      ]
     },
     "execution_count": 85,
     "metadata": {},
     "output_type": "execute_result"
    }
   ],
   "source": [
    "team_splits.columns"
   ]
  },
  {
   "cell_type": "code",
   "execution_count": 86,
   "id": "7a70ac53-e8e4-4669-ba7a-591d97880ed1",
   "metadata": {},
   "outputs": [],
   "source": [
    "team_splits = team_splits[(team_splits['lgID'] == 'NHL') & (team_splits['year'] >= 1980)]"
   ]
  },
  {
   "cell_type": "code",
   "execution_count": 87,
   "id": "12f719c9-b5b5-4840-81f0-7df3116ab86f",
   "metadata": {},
   "outputs": [],
   "source": [
    "cols_to_drop = team_splits.columns[3:11]"
   ]
  },
  {
   "cell_type": "code",
   "execution_count": 88,
   "id": "28e54e95-c7be-4c11-aaa3-4fbd583e1c2e",
   "metadata": {},
   "outputs": [
    {
     "data": {
      "text/plain": [
       "Index(['hW', 'hL', 'hT', 'hOTL', 'rW', 'rL', 'rT', 'rOTL'], dtype='object')"
      ]
     },
     "execution_count": 88,
     "metadata": {},
     "output_type": "execute_result"
    }
   ],
   "source": [
    "cols_to_drop"
   ]
  },
  {
   "cell_type": "code",
   "execution_count": 89,
   "id": "d6a88d61-2f0c-4842-8408-7a149ccb88bc",
   "metadata": {},
   "outputs": [
    {
     "data": {
      "text/plain": [
       "Index(['year', 'lgID', 'tmID', 'SepW', 'SepL', 'SepT', 'SepOL', 'OctW', 'OctL',\n",
       "       'OctT', 'OctOL', 'NovW', 'NovL', 'NovT', 'NovOL', 'DecW', 'DecL',\n",
       "       'DecT', 'DecOL', 'JanW', 'JanL', 'JanT', 'JanOL', 'FebW', 'FebL',\n",
       "       'FebT', 'FebOL', 'MarW', 'MarL', 'MarT', 'MarOL', 'AprW', 'AprL',\n",
       "       'AprT', 'AprOL'],\n",
       "      dtype='object')"
      ]
     },
     "execution_count": 89,
     "metadata": {},
     "output_type": "execute_result"
    }
   ],
   "source": [
    "team_splits.drop(columns=cols_to_drop, inplace=True)\n",
    "team_splits.columns"
   ]
  },
  {
   "cell_type": "code",
   "execution_count": 90,
   "id": "158634f8-c327-4b5a-ac3e-e031ae8c4666",
   "metadata": {},
   "outputs": [],
   "source": [
    "team_splits.drop(columns='lgID', inplace=True)"
   ]
  },
  {
   "cell_type": "code",
   "execution_count": 91,
   "id": "68d40d76-7042-4139-8aaa-eef36af551a6",
   "metadata": {},
   "outputs": [
    {
     "name": "stderr",
     "output_type": "stream",
     "text": [
      "/tmp/ipykernel_9779/772065985.py:2: FutureWarning: In a future version, `df.iloc[:, i] = newvals` will attempt to set the values inplace instead of always setting a new array. To retain the old behavior, use either `df[df.columns[i]] = newvals` or, if columns are non-unique, `df.isetitem(i, newvals)`\n",
      "  df.loc[:, col_name] = pd.Categorical(df[col_name])\n"
     ]
    }
   ],
   "source": [
    "make_categorical(team_splits, 'tmID')\n"
   ]
  },
  {
   "cell_type": "code",
   "execution_count": 92,
   "id": "a4bf2f61-e305-49a9-b726-6db3d240e8c9",
   "metadata": {},
   "outputs": [],
   "source": [
    "team_splits.to_pickle(os.path.join('dataset01', 'team_splits.pickle'))"
   ]
  },
  {
   "cell_type": "code",
   "execution_count": null,
   "id": "1cf6e13b-8cc4-45c7-8725-bd02a86f7cbf",
   "metadata": {},
   "outputs": [],
   "source": []
  }
 ],
 "metadata": {
  "kernelspec": {
   "display_name": "Python 3 (ipykernel)",
   "language": "python",
   "name": "python3"
  },
  "language_info": {
   "codemirror_mode": {
    "name": "ipython",
    "version": 3
   },
   "file_extension": ".py",
   "mimetype": "text/x-python",
   "name": "python",
   "nbconvert_exporter": "python",
   "pygments_lexer": "ipython3",
   "version": "3.10.6"
  }
 },
 "nbformat": 4,
 "nbformat_minor": 5
}
