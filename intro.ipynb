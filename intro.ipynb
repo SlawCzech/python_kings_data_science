{
 "cells": [
  {
   "cell_type": "code",
   "execution_count": 4,
   "id": "f945b655-2016-4bb5-82bd-db110ea144b5",
   "metadata": {},
   "outputs": [
    {
     "name": "stdout",
     "output_type": "stream",
     "text": [
      "/home/saek/projects/python_kings\n"
     ]
    }
   ],
   "source": [
    "!pwd"
   ]
  },
  {
   "cell_type": "code",
   "execution_count": 5,
   "id": "e47acebb-e982-4be0-b82d-d30b18c2b404",
   "metadata": {},
   "outputs": [],
   "source": [
    "import numpy as np"
   ]
  },
  {
   "cell_type": "code",
   "execution_count": 7,
   "id": "122756d4-814b-404f-9272-09d2aa9ef73a",
   "metadata": {},
   "outputs": [],
   "source": [
    "weight = [67, 34, 99, 116, 85]\n",
    "height = [145, 89, 180, 160, 185]"
   ]
  },
  {
   "cell_type": "code",
   "execution_count": 9,
   "id": "c0d047c3-ae3b-4838-980d-4e1f05c17abb",
   "metadata": {},
   "outputs": [
    {
     "ename": "TypeError",
     "evalue": "unsupported operand type(s) for /: 'list' and 'int'",
     "output_type": "error",
     "traceback": [
      "\u001b[0;31m---------------------------------------------------------------------------\u001b[0m",
      "\u001b[0;31mTypeError\u001b[0m                                 Traceback (most recent call last)",
      "Cell \u001b[0;32mIn [9], line 1\u001b[0m\n\u001b[0;32m----> 1\u001b[0m bmi \u001b[38;5;241m=\u001b[39m weight \u001b[38;5;241m/\u001b[39m (height\u001b[38;5;241m/\u001b[39m\u001b[38;5;241m100\u001b[39m) \u001b[38;5;241m*\u001b[39m\u001b[38;5;241m*\u001b[39m \u001b[38;5;241m2\u001b[39m\n",
      "\u001b[0;31mTypeError\u001b[0m: unsupported operand type(s) for /: 'list' and 'int'"
     ]
    }
   ],
   "source": [
    "bmi = weight / (height/100) ** 2"
   ]
  },
  {
   "cell_type": "code",
   "execution_count": 14,
   "id": "5a874357-b06a-42fc-afe0-52739ebb6adf",
   "metadata": {},
   "outputs": [],
   "source": [
    "np_height = np.array(height)"
   ]
  },
  {
   "cell_type": "code",
   "execution_count": 15,
   "id": "8d24dff1-d068-4d68-ad6e-29b078c73a80",
   "metadata": {},
   "outputs": [
    {
     "data": {
      "text/plain": [
       "numpy.ndarray"
      ]
     },
     "execution_count": 15,
     "metadata": {},
     "output_type": "execute_result"
    }
   ],
   "source": [
    "type(np_height)"
   ]
  },
  {
   "cell_type": "code",
   "execution_count": 13,
   "id": "b08d5972-f060-4587-938e-7b9b0c94ac51",
   "metadata": {},
   "outputs": [],
   "source": [
    "np_weight = np.array(weight)"
   ]
  },
  {
   "cell_type": "code",
   "execution_count": 16,
   "id": "2a5fdc19-3579-4dc2-9e5e-56e0313281d4",
   "metadata": {},
   "outputs": [
    {
     "data": {
      "text/plain": [
       "array([ 67,  34,  99, 116,  85])"
      ]
     },
     "execution_count": 16,
     "metadata": {},
     "output_type": "execute_result"
    }
   ],
   "source": [
    "np_weight"
   ]
  },
  {
   "cell_type": "code",
   "execution_count": 17,
   "id": "93c8f3b3-b582-4343-95b6-4353f0c023b3",
   "metadata": {},
   "outputs": [],
   "source": [
    "np_bmi = np_weight / (np_height/100) ** 2"
   ]
  },
  {
   "cell_type": "code",
   "execution_count": 18,
   "id": "54c51275-bd62-4e17-99e2-185d4dcad817",
   "metadata": {},
   "outputs": [
    {
     "data": {
      "text/plain": [
       "array([31.86682521, 42.92387325, 30.55555556, 45.3125    , 24.83564646])"
      ]
     },
     "execution_count": 18,
     "metadata": {},
     "output_type": "execute_result"
    }
   ],
   "source": [
    "np_bmi"
   ]
  },
  {
   "cell_type": "code",
   "execution_count": 19,
   "id": "86d70fab-4b61-442b-8123-84f3b60c4b09",
   "metadata": {},
   "outputs": [
    {
     "data": {
      "text/plain": [
       "[24.835646457268076]"
      ]
     },
     "execution_count": 19,
     "metadata": {},
     "output_type": "execute_result"
    }
   ],
   "source": [
    "t = []\n",
    "\n",
    "for item in np_bmi:\n",
    "    if item < 25:\n",
    "        t.append(item)\n",
    "        \n",
    "t\n",
    "        "
   ]
  },
  {
   "cell_type": "code",
   "execution_count": 20,
   "id": "52c0ab0a-53f7-4a0c-92ba-0a22623c13a9",
   "metadata": {},
   "outputs": [
    {
     "data": {
      "text/plain": [
       "array([24.83564646])"
      ]
     },
     "execution_count": 20,
     "metadata": {},
     "output_type": "execute_result"
    }
   ],
   "source": [
    "np_bmi[np_bmi<25]"
   ]
  },
  {
   "cell_type": "code",
   "execution_count": 21,
   "id": "cabd9cc6-f091-4ff6-8710-516df3e807fd",
   "metadata": {},
   "outputs": [
    {
     "data": {
      "text/plain": [
       "array([False, False, False, False,  True])"
      ]
     },
     "execution_count": 21,
     "metadata": {},
     "output_type": "execute_result"
    }
   ],
   "source": [
    "np_bmi < 25"
   ]
  },
  {
   "cell_type": "code",
   "execution_count": 23,
   "id": "48298758-6989-4d3b-aca5-7ea8a7aadd42",
   "metadata": {},
   "outputs": [
    {
     "data": {
      "text/plain": [
       "array([31.86682521, 30.55555556])"
      ]
     },
     "execution_count": 23,
     "metadata": {},
     "output_type": "execute_result"
    }
   ],
   "source": [
    "np_bmi[np.logical_and(np_bmi>25, np_bmi<40)]"
   ]
  },
  {
   "cell_type": "code",
   "execution_count": 25,
   "id": "09c2cc47-49ff-44e0-819f-691139897864",
   "metadata": {},
   "outputs": [
    {
     "data": {
      "text/plain": [
       "array([42.92387325, 45.3125    ])"
      ]
     },
     "execution_count": 25,
     "metadata": {},
     "output_type": "execute_result"
    }
   ],
   "source": [
    "np_bmi[np.logical_or(np_bmi<15, np_bmi>40)]"
   ]
  },
  {
   "cell_type": "code",
   "execution_count": 26,
   "id": "ff551ff8-de43-48ca-9e99-9a5c2dd87a0c",
   "metadata": {},
   "outputs": [
    {
     "data": {
      "text/plain": [
       "array([31.86682521, 42.92387325, 30.55555556, 45.3125    , 24.83564646])"
      ]
     },
     "execution_count": 26,
     "metadata": {},
     "output_type": "execute_result"
    }
   ],
   "source": [
    "np_bmi[np.logical_not()]"
   ]
  },
  {
   "cell_type": "markdown",
   "id": "a9727dcf-0e07-4a00-be90-94453f68d5d6",
   "metadata": {},
   "source": [
    "- scalar - 42\n",
    "- vector - [1, 2, 3, 4, 5]\n",
    "- matrix - [(1,2), (3,4)]\n",
    "- tensor - [[(2,4)]] czyli macierz wielowymiarowa"
   ]
  },
  {
   "cell_type": "code",
   "execution_count": 27,
   "id": "90dd8127-4869-48b5-bc99-e5c10392b71c",
   "metadata": {},
   "outputs": [],
   "source": [
    "data = np.array([[1,2], \n",
    "                 [3,4]])"
   ]
  },
  {
   "cell_type": "code",
   "execution_count": 28,
   "id": "10268ea9-0c3f-478a-a5db-0ee712a64ab8",
   "metadata": {},
   "outputs": [
    {
     "data": {
      "text/plain": [
       "array([[ 5, 10],\n",
       "       [15, 20]])"
      ]
     },
     "execution_count": 28,
     "metadata": {},
     "output_type": "execute_result"
    }
   ],
   "source": [
    "data *5 "
   ]
  },
  {
   "cell_type": "code",
   "execution_count": 29,
   "id": "0e51bed7-063e-4cf1-bb78-59cce6dceb0e",
   "metadata": {},
   "outputs": [
    {
     "data": {
      "text/plain": [
       "array([[ 1,  4],\n",
       "       [ 9, 16]])"
      ]
     },
     "execution_count": 29,
     "metadata": {},
     "output_type": "execute_result"
    }
   ],
   "source": [
    "data * data"
   ]
  },
  {
   "cell_type": "code",
   "execution_count": 30,
   "id": "9af8682d-ef7b-42fa-9814-fda74c5f7808",
   "metadata": {},
   "outputs": [
    {
     "data": {
      "text/plain": [
       "array([[ 42,  84],\n",
       "       [126, 168]])"
      ]
     },
     "execution_count": 30,
     "metadata": {},
     "output_type": "execute_result"
    }
   ],
   "source": [
    "data * np.array([42, 42])"
   ]
  },
  {
   "cell_type": "code",
   "execution_count": 31,
   "id": "d6141fc6-0dd7-4538-9815-516f325e744b",
   "metadata": {},
   "outputs": [
    {
     "data": {
      "text/plain": [
       "array([[1, 2],\n",
       "       [3, 4]])"
      ]
     },
     "execution_count": 31,
     "metadata": {},
     "output_type": "execute_result"
    }
   ],
   "source": [
    "data\n"
   ]
  },
  {
   "cell_type": "code",
   "execution_count": 32,
   "id": "7a128ee9-a591-4605-b741-a494ad5ced77",
   "metadata": {},
   "outputs": [
    {
     "data": {
      "text/plain": [
       "array([3, 4])"
      ]
     },
     "execution_count": 32,
     "metadata": {},
     "output_type": "execute_result"
    }
   ],
   "source": [
    "data[1]"
   ]
  },
  {
   "cell_type": "code",
   "execution_count": 34,
   "id": "f5c828bd-ef70-49e9-a69f-6801afe85ae9",
   "metadata": {},
   "outputs": [
    {
     "data": {
      "text/plain": [
       "array([1, 3])"
      ]
     },
     "execution_count": 34,
     "metadata": {},
     "output_type": "execute_result"
    }
   ],
   "source": [
    "data[0:2, 0]"
   ]
  },
  {
   "cell_type": "code",
   "execution_count": 36,
   "id": "892fc257-478a-49eb-b201-a0ba9fa0bd43",
   "metadata": {},
   "outputs": [],
   "source": [
    "y = np.arange(10)"
   ]
  },
  {
   "cell_type": "code",
   "execution_count": 43,
   "id": "ba7b9202-b24d-4dbd-a80f-17a0e3d24c92",
   "metadata": {},
   "outputs": [
    {
     "data": {
      "text/plain": [
       "array(<generator object <genexpr> at 0x7f4d41811620>, dtype=object)"
      ]
     },
     "execution_count": 43,
     "metadata": {},
     "output_type": "execute_result"
    }
   ],
   "source": [
    "np.array(y*item for item in range(10))"
   ]
  },
  {
   "cell_type": "code",
   "execution_count": 42,
   "id": "0d57843c-4695-4fc4-95b8-2e06336fea9a",
   "metadata": {},
   "outputs": [
    {
     "data": {
      "text/plain": [
       "array(<generator object <genexpr> at 0x7f4d41811310>, dtype=object)"
      ]
     },
     "execution_count": 42,
     "metadata": {},
     "output_type": "execute_result"
    }
   ],
   "source": [
    "x\n"
   ]
  },
  {
   "cell_type": "code",
   "execution_count": 45,
   "id": "642436f8-7a2b-4989-af77-e387a628fa48",
   "metadata": {},
   "outputs": [
    {
     "data": {
      "text/plain": [
       "array([[  1,   2,   3,   4,   5,   6,   7,   8,   9,  10],\n",
       "       [  2,   4,   6,   8,  10,  12,  14,  16,  18,  20],\n",
       "       [  3,   6,   9,  12,  15,  18,  21,  24,  27,  30],\n",
       "       [  4,   8,  12,  16,  20,  24,  28,  32,  36,  40],\n",
       "       [  5,  10,  15,  20,  25,  30,  35,  40,  45,  50],\n",
       "       [  6,  12,  18,  24,  30,  36,  42,  48,  54,  60],\n",
       "       [  7,  14,  21,  28,  35,  42,  49,  56,  63,  70],\n",
       "       [  8,  16,  24,  32,  40,  48,  56,  64,  72,  80],\n",
       "       [  9,  18,  27,  36,  45,  54,  63,  72,  81,  90],\n",
       "       [ 10,  20,  30,  40,  50,  60,  70,  80,  90, 100]])"
      ]
     },
     "execution_count": 45,
     "metadata": {},
     "output_type": "execute_result"
    }
   ],
   "source": [
    "result = np.array([[y * x for y in np.arange(1, 11)] for x in np.arange(1,11)])\n",
    "result"
   ]
  },
  {
   "cell_type": "code",
   "execution_count": 48,
   "id": "0f82ee10-780d-4a85-a903-be153af898d6",
   "metadata": {},
   "outputs": [
    {
     "data": {
      "text/plain": [
       "array([ 1,  2,  3,  4,  5,  6,  7,  8,  9, 10])"
      ]
     },
     "execution_count": 48,
     "metadata": {},
     "output_type": "execute_result"
    }
   ],
   "source": [
    "result[0,0:]"
   ]
  },
  {
   "cell_type": "code",
   "execution_count": 49,
   "id": "c322d999-f477-4220-a041-8600c22bff8b",
   "metadata": {},
   "outputs": [
    {
     "data": {
      "text/plain": [
       "array([ 1,  2,  3,  4,  5,  6,  7,  8,  9, 10])"
      ]
     },
     "execution_count": 49,
     "metadata": {},
     "output_type": "execute_result"
    }
   ],
   "source": [
    "result[0:, 0]"
   ]
  },
  {
   "cell_type": "code",
   "execution_count": 53,
   "id": "8640a7e7-e36d-45aa-91a1-2a131324b415",
   "metadata": {},
   "outputs": [
    {
     "data": {
      "text/plain": [
       "array([[ 1,  2,  3,  4,  5,  6,  7,  8,  9, 10],\n",
       "       [ 3,  6,  9, 12, 15, 18, 21, 24, 27, 30],\n",
       "       [ 5, 10, 15, 20, 25, 30, 35, 40, 45, 50],\n",
       "       [ 7, 14, 21, 28, 35, 42, 49, 56, 63, 70],\n",
       "       [ 9, 18, 27, 36, 45, 54, 63, 72, 81, 90]])"
      ]
     },
     "execution_count": 53,
     "metadata": {},
     "output_type": "execute_result"
    }
   ],
   "source": [
    "result[0::2]"
   ]
  },
  {
   "cell_type": "code",
   "execution_count": 54,
   "id": "03ad32d7-304f-416b-af75-fd62c33416a4",
   "metadata": {},
   "outputs": [
    {
     "data": {
      "text/plain": [
       "array([[  2,   4,   6,   8,  10,  12,  14,  16,  18,  20],\n",
       "       [  4,   8,  12,  16,  20,  24,  28,  32,  36,  40],\n",
       "       [  6,  12,  18,  24,  30,  36,  42,  48,  54,  60],\n",
       "       [  8,  16,  24,  32,  40,  48,  56,  64,  72,  80],\n",
       "       [ 10,  20,  30,  40,  50,  60,  70,  80,  90, 100]])"
      ]
     },
     "execution_count": 54,
     "metadata": {},
     "output_type": "execute_result"
    }
   ],
   "source": [
    "result[1::2]"
   ]
  },
  {
   "cell_type": "code",
   "execution_count": 55,
   "id": "05c54531-9561-4ab1-a207-48dc3f5f015d",
   "metadata": {},
   "outputs": [
    {
     "data": {
      "text/plain": [
       "array([[ 1,  3,  5,  7,  9],\n",
       "       [ 3,  9, 15, 21, 27],\n",
       "       [ 5, 15, 25, 35, 45],\n",
       "       [ 7, 21, 35, 49, 63],\n",
       "       [ 9, 27, 45, 63, 81]])"
      ]
     },
     "execution_count": 55,
     "metadata": {},
     "output_type": "execute_result"
    }
   ],
   "source": [
    "result[0::2, 0::2]"
   ]
  },
  {
   "cell_type": "code",
   "execution_count": 57,
   "id": "7607fdda-5658-4f62-9546-573fee6c1fef",
   "metadata": {},
   "outputs": [
    {
     "data": {
      "text/plain": [
       "array([[ 2,  4,  6,  8, 10, 12, 14, 16, 18, 20],\n",
       "       [ 6, 12, 18, 24, 30, 36, 42, 48, 54, 60],\n",
       "       [ 8, 16, 24, 32, 40, 48, 56, 64, 72, 80]])"
      ]
     },
     "execution_count": 57,
     "metadata": {},
     "output_type": "execute_result"
    }
   ],
   "source": [
    "result[[1, 5, 7]]"
   ]
  },
  {
   "cell_type": "code",
   "execution_count": 60,
   "id": "40a6b066-12db-4a56-a8b6-43777ffbb019",
   "metadata": {},
   "outputs": [
    {
     "data": {
      "text/plain": [
       "array([[ 2,  4,  6,  8, 10, 12, 14, 16, 18, 20],\n",
       "       [ 3,  6,  9, 12, 15, 18, 21, 24, 27, 30],\n",
       "       [ 4,  8, 12, 16, 20, 24, 28, 32, 36, 40]])"
      ]
     },
     "execution_count": 60,
     "metadata": {},
     "output_type": "execute_result"
    }
   ],
   "source": [
    "result[[1, 2, 3]]"
   ]
  },
  {
   "cell_type": "code",
   "execution_count": 62,
   "id": "cb9a4225-8a8d-41be-bedf-6107454d8573",
   "metadata": {},
   "outputs": [
    {
     "data": {
      "text/plain": [
       "array([[ 2,  6, 10, 14, 18],\n",
       "       [ 3,  9, 15, 21, 27],\n",
       "       [ 4, 12, 20, 28, 36]])"
      ]
     },
     "execution_count": 62,
     "metadata": {},
     "output_type": "execute_result"
    }
   ],
   "source": [
    "result[[1, 2, 3], ::2]"
   ]
  },
  {
   "cell_type": "code",
   "execution_count": 63,
   "id": "98467a70-bceb-46e7-aa08-dba86f086914",
   "metadata": {},
   "outputs": [
    {
     "data": {
      "text/plain": [
       "array([[  1,   2,   3,   4,   5,   6,   7,   8,   9,  10],\n",
       "       [  2,   4,   6,   8,  10,  12,  14,  16,  18,  20],\n",
       "       [  3,   6,   9,  12,  15,  18,  21,  24,  27,  30],\n",
       "       [  4,   8,  12,  16,  20,  24,  28,  32,  36,  40],\n",
       "       [  5,  10,  15,  20,  25,  30,  35,  40,  45,  50],\n",
       "       [  6,  12,  18,  24,  30,  36,  42,  48,  54,  60],\n",
       "       [  7,  14,  21,  28,  35,  42,  49,  56,  63,  70],\n",
       "       [  8,  16,  24,  32,  40,  48,  56,  64,  72,  80],\n",
       "       [  9,  18,  27,  36,  45,  54,  63,  72,  81,  90],\n",
       "       [ 10,  20,  30,  40,  50,  60,  70,  80,  90, 100]])"
      ]
     },
     "execution_count": 63,
     "metadata": {},
     "output_type": "execute_result"
    }
   ],
   "source": [
    "result"
   ]
  },
  {
   "cell_type": "code",
   "execution_count": 66,
   "id": "58546168-3cbf-4d39-b0e3-9c21a6a39e24",
   "metadata": {},
   "outputs": [],
   "source": [
    "result[result % 2 == 0] = False"
   ]
  },
  {
   "cell_type": "code",
   "execution_count": 67,
   "id": "630793cb-06ec-48f2-b506-94a294762cce",
   "metadata": {},
   "outputs": [
    {
     "data": {
      "text/plain": [
       "array([[ 1,  0,  3,  0,  5,  0,  7,  0,  9,  0],\n",
       "       [ 0,  0,  0,  0,  0,  0,  0,  0,  0,  0],\n",
       "       [ 3,  0,  9,  0, 15,  0, 21,  0, 27,  0],\n",
       "       [ 0,  0,  0,  0,  0,  0,  0,  0,  0,  0],\n",
       "       [ 5,  0, 15,  0, 25,  0, 35,  0, 45,  0],\n",
       "       [ 0,  0,  0,  0,  0,  0,  0,  0,  0,  0],\n",
       "       [ 7,  0, 21,  0, 35,  0, 49,  0, 63,  0],\n",
       "       [ 0,  0,  0,  0,  0,  0,  0,  0,  0,  0],\n",
       "       [ 9,  0, 27,  0, 45,  0, 63,  0, 81,  0],\n",
       "       [ 0,  0,  0,  0,  0,  0,  0,  0,  0,  0]])"
      ]
     },
     "execution_count": 67,
     "metadata": {},
     "output_type": "execute_result"
    }
   ],
   "source": [
    "result"
   ]
  },
  {
   "cell_type": "code",
   "execution_count": 70,
   "id": "46c2736a-77eb-4309-95bc-f16888cb3a63",
   "metadata": {},
   "outputs": [
    {
     "data": {
      "text/plain": [
       "array([0, 0, 0, 0, 0, 0, 0, 0, 0, 0, 0, 0, 0, 0, 0, 0, 0, 0, 0, 0, 0, 0,\n",
       "       0, 0, 0, 0, 0, 0, 0, 0, 0, 0, 0, 0, 0, 0, 0, 0, 0, 0, 0, 0, 0, 0,\n",
       "       0, 0, 0, 0, 0, 0, 0, 0, 0, 0, 0, 0, 0, 0, 0, 0, 0, 0, 0, 0, 0, 0,\n",
       "       0, 0, 0, 0, 0, 0, 0, 0, 0])"
      ]
     },
     "execution_count": 70,
     "metadata": {},
     "output_type": "execute_result"
    }
   ],
   "source": [
    "result[result % 2 == 0]"
   ]
  },
  {
   "cell_type": "code",
   "execution_count": 77,
   "id": "00c21207-4867-4b5e-8927-258db3c63bd0",
   "metadata": {},
   "outputs": [
    {
     "data": {
      "text/plain": [
       "array([[0, 0, 0, 0, 0, 0, 0, 0, 0, 0, 0, 0, 0, 0, 0],\n",
       "       [0, 0, 0, 0, 0, 0, 0, 0, 0, 0, 0, 0, 0, 0, 0],\n",
       "       [0, 0, 0, 0, 0, 0, 0, 0, 0, 0, 0, 0, 0, 0, 0],\n",
       "       [0, 0, 0, 0, 0, 0, 0, 0, 0, 0, 0, 0, 0, 0, 0],\n",
       "       [0, 0, 0, 0, 0, 0, 0, 0, 0, 0, 0, 0, 0, 0, 0]])"
      ]
     },
     "execution_count": 77,
     "metadata": {},
     "output_type": "execute_result"
    }
   ],
   "source": [
    "result[result % 2 == 0].reshape(5, -1)"
   ]
  },
  {
   "cell_type": "code",
   "execution_count": null,
   "id": "eeee17b3-8866-4cdc-b444-42fc0ee954f8",
   "metadata": {},
   "outputs": [],
   "source": []
  }
 ],
 "metadata": {
  "kernelspec": {
   "display_name": "Python 3 (ipykernel)",
   "language": "python",
   "name": "python3"
  },
  "language_info": {
   "codemirror_mode": {
    "name": "ipython",
    "version": 3
   },
   "file_extension": ".py",
   "mimetype": "text/x-python",
   "name": "python",
   "nbconvert_exporter": "python",
   "pygments_lexer": "ipython3",
   "version": "3.10.6"
  }
 },
 "nbformat": 4,
 "nbformat_minor": 5
}
