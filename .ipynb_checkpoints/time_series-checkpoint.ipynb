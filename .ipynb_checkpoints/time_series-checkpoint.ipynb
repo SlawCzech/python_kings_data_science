{
 "cells": [
  {
   "cell_type": "code",
   "execution_count": 2,
   "id": "9d64450f-9557-4851-b40a-f2dd22c0569f",
   "metadata": {},
   "outputs": [],
   "source": [
    "import os\n",
    "import pandas as pd"
   ]
  },
  {
   "cell_type": "code",
   "execution_count": 3,
   "id": "fa0b6f47-adfe-4077-8a9a-812b98921d6c",
   "metadata": {},
   "outputs": [],
   "source": [
    "master = pd.read_pickle(os.path.join('dataset01', 'master-pickle'))\n",
    "team_splits = pd.read_pickle(os.path.join('dataset01', 'team_splits_mi.pickle'))"
   ]
  },
  {
   "cell_type": "code",
   "execution_count": 4,
   "id": "57cce975-1f02-4b27-a247-1bddeb3d565b",
   "metadata": {},
   "outputs": [
    {
     "data": {
      "text/html": [
       "<div>\n",
       "<style scoped>\n",
       "    .dataframe tbody tr th:only-of-type {\n",
       "        vertical-align: middle;\n",
       "    }\n",
       "\n",
       "    .dataframe tbody tr th {\n",
       "        vertical-align: top;\n",
       "    }\n",
       "\n",
       "    .dataframe thead th {\n",
       "        text-align: right;\n",
       "    }\n",
       "</style>\n",
       "<table border=\"1\" class=\"dataframe\">\n",
       "  <thead>\n",
       "    <tr style=\"text-align: right;\">\n",
       "      <th></th>\n",
       "      <th>firstName</th>\n",
       "      <th>lastName</th>\n",
       "      <th>pos</th>\n",
       "      <th>birthYear</th>\n",
       "      <th>birthMon</th>\n",
       "      <th>birthDay</th>\n",
       "      <th>birthCountry</th>\n",
       "      <th>birthState</th>\n",
       "      <th>birthCity</th>\n",
       "    </tr>\n",
       "    <tr>\n",
       "      <th>playerID</th>\n",
       "      <th></th>\n",
       "      <th></th>\n",
       "      <th></th>\n",
       "      <th></th>\n",
       "      <th></th>\n",
       "      <th></th>\n",
       "      <th></th>\n",
       "      <th></th>\n",
       "      <th></th>\n",
       "    </tr>\n",
       "  </thead>\n",
       "  <tbody>\n",
       "    <tr>\n",
       "      <th>aaltoan01</th>\n",
       "      <td>Antti</td>\n",
       "      <td>Aalto</td>\n",
       "      <td>C</td>\n",
       "      <td>1975.0</td>\n",
       "      <td>3.0</td>\n",
       "      <td>4.0</td>\n",
       "      <td>Finland</td>\n",
       "      <td>NaN</td>\n",
       "      <td>Lappeenranta</td>\n",
       "    </tr>\n",
       "    <tr>\n",
       "      <th>abdelju01</th>\n",
       "      <td>Justin</td>\n",
       "      <td>Abdelkader</td>\n",
       "      <td>L</td>\n",
       "      <td>1987.0</td>\n",
       "      <td>2.0</td>\n",
       "      <td>25.0</td>\n",
       "      <td>USA</td>\n",
       "      <td>MI</td>\n",
       "      <td>Muskegon</td>\n",
       "    </tr>\n",
       "    <tr>\n",
       "      <th>abidra01</th>\n",
       "      <td>Ramzi</td>\n",
       "      <td>Abid</td>\n",
       "      <td>L</td>\n",
       "      <td>1980.0</td>\n",
       "      <td>3.0</td>\n",
       "      <td>24.0</td>\n",
       "      <td>Canada</td>\n",
       "      <td>QC</td>\n",
       "      <td>Montreal</td>\n",
       "    </tr>\n",
       "    <tr>\n",
       "      <th>abrahth01</th>\n",
       "      <td>Thommy</td>\n",
       "      <td>Abrahamsson</td>\n",
       "      <td>D</td>\n",
       "      <td>1947.0</td>\n",
       "      <td>4.0</td>\n",
       "      <td>12.0</td>\n",
       "      <td>Sweden</td>\n",
       "      <td>NaN</td>\n",
       "      <td>Leksand</td>\n",
       "    </tr>\n",
       "    <tr>\n",
       "      <th>actonke01</th>\n",
       "      <td>Keith</td>\n",
       "      <td>Acton</td>\n",
       "      <td>C</td>\n",
       "      <td>1958.0</td>\n",
       "      <td>4.0</td>\n",
       "      <td>15.0</td>\n",
       "      <td>Canada</td>\n",
       "      <td>ON</td>\n",
       "      <td>Stouffville</td>\n",
       "    </tr>\n",
       "  </tbody>\n",
       "</table>\n",
       "</div>"
      ],
      "text/plain": [
       "          firstName     lastName pos  birthYear  birthMon  birthDay  \\\n",
       "playerID                                                              \n",
       "aaltoan01     Antti        Aalto   C     1975.0       3.0       4.0   \n",
       "abdelju01    Justin   Abdelkader   L     1987.0       2.0      25.0   \n",
       "abidra01      Ramzi         Abid   L     1980.0       3.0      24.0   \n",
       "abrahth01    Thommy  Abrahamsson   D     1947.0       4.0      12.0   \n",
       "actonke01     Keith        Acton   C     1958.0       4.0      15.0   \n",
       "\n",
       "          birthCountry birthState     birthCity  \n",
       "playerID                                         \n",
       "aaltoan01      Finland        NaN  Lappeenranta  \n",
       "abdelju01          USA         MI      Muskegon  \n",
       "abidra01        Canada         QC      Montreal  \n",
       "abrahth01       Sweden        NaN       Leksand  \n",
       "actonke01       Canada         ON   Stouffville  "
      ]
     },
     "execution_count": 4,
     "metadata": {},
     "output_type": "execute_result"
    }
   ],
   "source": [
    "master.head()"
   ]
  },
  {
   "cell_type": "code",
   "execution_count": 7,
   "id": "9b601549-14f7-48e7-8236-6dd37e6da691",
   "metadata": {},
   "outputs": [
    {
     "data": {
      "text/html": [
       "<div>\n",
       "<style scoped>\n",
       "    .dataframe tbody tr th:only-of-type {\n",
       "        vertical-align: middle;\n",
       "    }\n",
       "\n",
       "    .dataframe tbody tr th {\n",
       "        vertical-align: top;\n",
       "    }\n",
       "\n",
       "    .dataframe thead th {\n",
       "        text-align: right;\n",
       "    }\n",
       "</style>\n",
       "<table border=\"1\" class=\"dataframe\">\n",
       "  <thead>\n",
       "    <tr style=\"text-align: right;\">\n",
       "      <th></th>\n",
       "      <th>firstName</th>\n",
       "      <th>lastName</th>\n",
       "      <th>pos</th>\n",
       "      <th>birthYear</th>\n",
       "      <th>birthMon</th>\n",
       "      <th>birthDay</th>\n",
       "      <th>birthCountry</th>\n",
       "      <th>birthState</th>\n",
       "      <th>birthCity</th>\n",
       "      <th>birthDate</th>\n",
       "    </tr>\n",
       "    <tr>\n",
       "      <th>playerID</th>\n",
       "      <th></th>\n",
       "      <th></th>\n",
       "      <th></th>\n",
       "      <th></th>\n",
       "      <th></th>\n",
       "      <th></th>\n",
       "      <th></th>\n",
       "      <th></th>\n",
       "      <th></th>\n",
       "      <th></th>\n",
       "    </tr>\n",
       "  </thead>\n",
       "  <tbody>\n",
       "    <tr>\n",
       "      <th>aaltoan01</th>\n",
       "      <td>Antti</td>\n",
       "      <td>Aalto</td>\n",
       "      <td>C</td>\n",
       "      <td>1975.0</td>\n",
       "      <td>3.0</td>\n",
       "      <td>4.0</td>\n",
       "      <td>Finland</td>\n",
       "      <td>NaN</td>\n",
       "      <td>Lappeenranta</td>\n",
       "      <td>1975-03-04</td>\n",
       "    </tr>\n",
       "    <tr>\n",
       "      <th>abdelju01</th>\n",
       "      <td>Justin</td>\n",
       "      <td>Abdelkader</td>\n",
       "      <td>L</td>\n",
       "      <td>1987.0</td>\n",
       "      <td>2.0</td>\n",
       "      <td>25.0</td>\n",
       "      <td>USA</td>\n",
       "      <td>MI</td>\n",
       "      <td>Muskegon</td>\n",
       "      <td>1987-02-25</td>\n",
       "    </tr>\n",
       "    <tr>\n",
       "      <th>abidra01</th>\n",
       "      <td>Ramzi</td>\n",
       "      <td>Abid</td>\n",
       "      <td>L</td>\n",
       "      <td>1980.0</td>\n",
       "      <td>3.0</td>\n",
       "      <td>24.0</td>\n",
       "      <td>Canada</td>\n",
       "      <td>QC</td>\n",
       "      <td>Montreal</td>\n",
       "      <td>1980-03-24</td>\n",
       "    </tr>\n",
       "    <tr>\n",
       "      <th>abrahth01</th>\n",
       "      <td>Thommy</td>\n",
       "      <td>Abrahamsson</td>\n",
       "      <td>D</td>\n",
       "      <td>1947.0</td>\n",
       "      <td>4.0</td>\n",
       "      <td>12.0</td>\n",
       "      <td>Sweden</td>\n",
       "      <td>NaN</td>\n",
       "      <td>Leksand</td>\n",
       "      <td>1947-04-12</td>\n",
       "    </tr>\n",
       "    <tr>\n",
       "      <th>actonke01</th>\n",
       "      <td>Keith</td>\n",
       "      <td>Acton</td>\n",
       "      <td>C</td>\n",
       "      <td>1958.0</td>\n",
       "      <td>4.0</td>\n",
       "      <td>15.0</td>\n",
       "      <td>Canada</td>\n",
       "      <td>ON</td>\n",
       "      <td>Stouffville</td>\n",
       "      <td>1958-04-15</td>\n",
       "    </tr>\n",
       "  </tbody>\n",
       "</table>\n",
       "</div>"
      ],
      "text/plain": [
       "          firstName     lastName pos  birthYear  birthMon  birthDay  \\\n",
       "playerID                                                              \n",
       "aaltoan01     Antti        Aalto   C     1975.0       3.0       4.0   \n",
       "abdelju01    Justin   Abdelkader   L     1987.0       2.0      25.0   \n",
       "abidra01      Ramzi         Abid   L     1980.0       3.0      24.0   \n",
       "abrahth01    Thommy  Abrahamsson   D     1947.0       4.0      12.0   \n",
       "actonke01     Keith        Acton   C     1958.0       4.0      15.0   \n",
       "\n",
       "          birthCountry birthState     birthCity  birthDate  \n",
       "playerID                                                    \n",
       "aaltoan01      Finland        NaN  Lappeenranta 1975-03-04  \n",
       "abdelju01          USA         MI      Muskegon 1987-02-25  \n",
       "abidra01        Canada         QC      Montreal 1980-03-24  \n",
       "abrahth01       Sweden        NaN       Leksand 1947-04-12  \n",
       "actonke01       Canada         ON   Stouffville 1958-04-15  "
      ]
     },
     "execution_count": 7,
     "metadata": {},
     "output_type": "execute_result"
    }
   ],
   "source": [
    "master = master.assign(birthDate = pd.to_datetime({\n",
    "    'year': master.birthYear,\n",
    "    'month': master.birthMon,\n",
    "    'day': master.birthDay\n",
    "}))\n",
    "\n",
    "master.head()"
   ]
  },
  {
   "cell_type": "code",
   "execution_count": 8,
   "id": "5c0240e1-8152-4cc5-b1ab-14152bfa5c97",
   "metadata": {},
   "outputs": [
    {
     "data": {
      "text/plain": [
       "firstName               object\n",
       "lastName                object\n",
       "pos                   category\n",
       "birthYear              float64\n",
       "birthMon               float64\n",
       "birthDay               float64\n",
       "birthCountry          category\n",
       "birthState            category\n",
       "birthCity               object\n",
       "birthDate       datetime64[ns]\n",
       "dtype: object"
      ]
     },
     "execution_count": 8,
     "metadata": {},
     "output_type": "execute_result"
    }
   ],
   "source": [
    "master.dtypes"
   ]
  },
  {
   "cell_type": "code",
   "execution_count": 9,
   "id": "73f7d5b0-c43f-4805-94a5-63800366bda9",
   "metadata": {},
   "outputs": [],
   "source": [
    "master.drop(columns=['birthYear', 'birthMon', 'birthDay'], inplace=True)"
   ]
  },
  {
   "cell_type": "code",
   "execution_count": 10,
   "id": "2c40347a-9aab-4dfe-9218-01905e9f2819",
   "metadata": {},
   "outputs": [
    {
     "data": {
      "text/html": [
       "<div>\n",
       "<style scoped>\n",
       "    .dataframe tbody tr th:only-of-type {\n",
       "        vertical-align: middle;\n",
       "    }\n",
       "\n",
       "    .dataframe tbody tr th {\n",
       "        vertical-align: top;\n",
       "    }\n",
       "\n",
       "    .dataframe thead th {\n",
       "        text-align: right;\n",
       "    }\n",
       "</style>\n",
       "<table border=\"1\" class=\"dataframe\">\n",
       "  <thead>\n",
       "    <tr style=\"text-align: right;\">\n",
       "      <th></th>\n",
       "      <th>firstName</th>\n",
       "      <th>lastName</th>\n",
       "      <th>pos</th>\n",
       "      <th>birthCountry</th>\n",
       "      <th>birthState</th>\n",
       "      <th>birthCity</th>\n",
       "      <th>birthDate</th>\n",
       "    </tr>\n",
       "    <tr>\n",
       "      <th>playerID</th>\n",
       "      <th></th>\n",
       "      <th></th>\n",
       "      <th></th>\n",
       "      <th></th>\n",
       "      <th></th>\n",
       "      <th></th>\n",
       "      <th></th>\n",
       "    </tr>\n",
       "  </thead>\n",
       "  <tbody>\n",
       "    <tr>\n",
       "      <th>aaltoan01</th>\n",
       "      <td>Antti</td>\n",
       "      <td>Aalto</td>\n",
       "      <td>C</td>\n",
       "      <td>Finland</td>\n",
       "      <td>NaN</td>\n",
       "      <td>Lappeenranta</td>\n",
       "      <td>1975-03-04</td>\n",
       "    </tr>\n",
       "    <tr>\n",
       "      <th>abdelju01</th>\n",
       "      <td>Justin</td>\n",
       "      <td>Abdelkader</td>\n",
       "      <td>L</td>\n",
       "      <td>USA</td>\n",
       "      <td>MI</td>\n",
       "      <td>Muskegon</td>\n",
       "      <td>1987-02-25</td>\n",
       "    </tr>\n",
       "    <tr>\n",
       "      <th>abidra01</th>\n",
       "      <td>Ramzi</td>\n",
       "      <td>Abid</td>\n",
       "      <td>L</td>\n",
       "      <td>Canada</td>\n",
       "      <td>QC</td>\n",
       "      <td>Montreal</td>\n",
       "      <td>1980-03-24</td>\n",
       "    </tr>\n",
       "    <tr>\n",
       "      <th>abrahth01</th>\n",
       "      <td>Thommy</td>\n",
       "      <td>Abrahamsson</td>\n",
       "      <td>D</td>\n",
       "      <td>Sweden</td>\n",
       "      <td>NaN</td>\n",
       "      <td>Leksand</td>\n",
       "      <td>1947-04-12</td>\n",
       "    </tr>\n",
       "    <tr>\n",
       "      <th>actonke01</th>\n",
       "      <td>Keith</td>\n",
       "      <td>Acton</td>\n",
       "      <td>C</td>\n",
       "      <td>Canada</td>\n",
       "      <td>ON</td>\n",
       "      <td>Stouffville</td>\n",
       "      <td>1958-04-15</td>\n",
       "    </tr>\n",
       "  </tbody>\n",
       "</table>\n",
       "</div>"
      ],
      "text/plain": [
       "          firstName     lastName pos birthCountry birthState     birthCity  \\\n",
       "playerID                                                                     \n",
       "aaltoan01     Antti        Aalto   C      Finland        NaN  Lappeenranta   \n",
       "abdelju01    Justin   Abdelkader   L          USA         MI      Muskegon   \n",
       "abidra01      Ramzi         Abid   L       Canada         QC      Montreal   \n",
       "abrahth01    Thommy  Abrahamsson   D       Sweden        NaN       Leksand   \n",
       "actonke01     Keith        Acton   C       Canada         ON   Stouffville   \n",
       "\n",
       "           birthDate  \n",
       "playerID              \n",
       "aaltoan01 1975-03-04  \n",
       "abdelju01 1987-02-25  \n",
       "abidra01  1980-03-24  \n",
       "abrahth01 1947-04-12  \n",
       "actonke01 1958-04-15  "
      ]
     },
     "execution_count": 10,
     "metadata": {},
     "output_type": "execute_result"
    }
   ],
   "source": [
    "master.head()"
   ]
  },
  {
   "cell_type": "code",
   "execution_count": 11,
   "id": "00c2d480-3fdb-4521-9026-120e54d5d104",
   "metadata": {},
   "outputs": [
    {
     "data": {
      "text/plain": [
       "playerID\n",
       "aaltoan01   1975-03-04\n",
       "abdelju01   1987-02-25\n",
       "abidra01    1980-03-24\n",
       "abrahth01   1947-04-12\n",
       "actonke01   1958-04-15\n",
       "Name: birthDate, dtype: datetime64[ns]"
      ]
     },
     "execution_count": 11,
     "metadata": {},
     "output_type": "execute_result"
    }
   ],
   "source": [
    "master.birthDate.head()"
   ]
  },
  {
   "cell_type": "code",
   "execution_count": 12,
   "id": "6caf6acb-c7a4-4c57-b917-3a1bbb48657e",
   "metadata": {},
   "outputs": [
    {
     "data": {
      "text/plain": [
       "Timestamp('1975-03-04 00:00:00')"
      ]
     },
     "execution_count": 12,
     "metadata": {},
     "output_type": "execute_result"
    }
   ],
   "source": [
    "master.birthDate[0]"
   ]
  },
  {
   "cell_type": "code",
   "execution_count": 13,
   "id": "438e70b2-9caa-4ce9-a7f9-8eb658acb6df",
   "metadata": {},
   "outputs": [],
   "source": [
    "ts = master.birthDate[0]"
   ]
  },
  {
   "cell_type": "code",
   "execution_count": 14,
   "id": "b32702bb-32c8-44dd-8e6c-43f9501fcaa6",
   "metadata": {},
   "outputs": [
    {
     "name": "stdout",
     "output_type": "stream",
     "text": [
      "Tuesday, 4 March 1975\n"
     ]
    }
   ],
   "source": [
    "print('{}, {} {} {}'.format(ts.day_name(), ts.day, ts.month_name(), ts.year))"
   ]
  },
  {
   "cell_type": "code",
   "execution_count": 16,
   "id": "5b9bca73-00e1-4589-91d8-21bcab0a4f35",
   "metadata": {},
   "outputs": [
    {
     "data": {
      "text/plain": [
       "'Tue 1975 04'"
      ]
     },
     "execution_count": 16,
     "metadata": {},
     "output_type": "execute_result"
    }
   ],
   "source": [
    "f'{ts:%a %Y %d}'"
   ]
  },
  {
   "cell_type": "code",
   "execution_count": 17,
   "id": "a71e9cbf-f17b-416d-a4f6-d689dac29c33",
   "metadata": {},
   "outputs": [
    {
     "data": {
      "text/plain": [
       "Timestamp('1975-03-04 00:00:00-0500', tz='America/Toronto')"
      ]
     },
     "execution_count": 17,
     "metadata": {},
     "output_type": "execute_result"
    }
   ],
   "source": [
    "tsz = ts.tz_localize('America/Toronto')\n",
    "tsz"
   ]
  },
  {
   "cell_type": "code",
   "execution_count": 18,
   "id": "c3fc2d98-8a09-40da-a81e-c480c9ad16fd",
   "metadata": {},
   "outputs": [
    {
     "data": {
      "text/plain": [
       "Timestamp('1975-03-04 05:00:00+0000', tz='Europe/London')"
      ]
     },
     "execution_count": 18,
     "metadata": {},
     "output_type": "execute_result"
    }
   ],
   "source": [
    "tsz.tz_convert('Europe/London')"
   ]
  },
  {
   "cell_type": "code",
   "execution_count": 19,
   "id": "655a1070-44fc-49ae-b6d8-8581aa3323c3",
   "metadata": {},
   "outputs": [
    {
     "data": {
      "text/plain": [
       "playerID\n",
       "aaltoan01    1975\n",
       "abdelju01    1987\n",
       "abidra01     1980\n",
       "abrahth01    1947\n",
       "actonke01    1958\n",
       "Name: birthDate, dtype: int64"
      ]
     },
     "execution_count": 19,
     "metadata": {},
     "output_type": "execute_result"
    }
   ],
   "source": [
    "years = master.birthDate.dt.year\n",
    "years.head()"
   ]
  },
  {
   "cell_type": "code",
   "execution_count": 20,
   "id": "98a01e82-f92b-4367-a844-ea0978040f67",
   "metadata": {},
   "outputs": [
    {
     "data": {
      "text/plain": [
       "playerID\n",
       "aaltoan01    1975-04-1975-Tue\n",
       "abdelju01    1987-25-1987-Wed\n",
       "abidra01     1980-24-1980-Mon\n",
       "abrahth01    1947-12-1947-Sat\n",
       "actonke01    1958-15-1958-Tue\n",
       "Name: birthDate, dtype: object"
      ]
     },
     "execution_count": 20,
     "metadata": {},
     "output_type": "execute_result"
    }
   ],
   "source": [
    "strings = master.birthDate.dt.strftime('%Y-%d-%Y-%a')\n",
    "strings.head()"
   ]
  },
  {
   "cell_type": "code",
   "execution_count": 21,
   "id": "e8cbb83b-72c9-4092-a3ec-8107d8acb824",
   "metadata": {},
   "outputs": [
    {
     "data": {
      "text/plain": [
       "playerID\n",
       "aaltoan01    03-04-1975\n",
       "abdelju01    02-25-1987\n",
       "abidra01     03-24-1980\n",
       "abrahth01    04-12-1947\n",
       "actonke01    04-15-1958\n",
       "Name: birthDate, dtype: object"
      ]
     },
     "execution_count": 21,
     "metadata": {},
     "output_type": "execute_result"
    }
   ],
   "source": [
    "strings = master.birthDate.dt.strftime('%m-%d-%Y')\n",
    "strings.head()"
   ]
  },
  {
   "cell_type": "code",
   "execution_count": 22,
   "id": "048ef0b1-4879-48a7-b416-d95829e9b1cb",
   "metadata": {},
   "outputs": [
    {
     "data": {
      "text/plain": [
       "playerID\n",
       "aaltoan01   1975-03-04\n",
       "abdelju01   1987-02-25\n",
       "abidra01    1980-03-24\n",
       "abrahth01   1947-04-12\n",
       "actonke01   1958-04-15\n",
       "Name: birthDate, dtype: datetime64[ns]"
      ]
     },
     "execution_count": 22,
     "metadata": {},
     "output_type": "execute_result"
    }
   ],
   "source": [
    "dates = pd.to_datetime(strings)\n",
    "dates.head()"
   ]
  },
  {
   "cell_type": "code",
   "execution_count": 23,
   "id": "08e72cab-5124-4bb9-b404-4c856796df6f",
   "metadata": {},
   "outputs": [
    {
     "data": {
      "text/plain": [
       "playerID\n",
       "aaltoan01    03xx04xx1975\n",
       "abdelju01    02xx25xx1987\n",
       "abidra01     03xx24xx1980\n",
       "abrahth01    04xx12xx1947\n",
       "actonke01    04xx15xx1958\n",
       "Name: birthDate, dtype: object"
      ]
     },
     "execution_count": 23,
     "metadata": {},
     "output_type": "execute_result"
    }
   ],
   "source": [
    "strings = strings.str.replace('-', 'xx')\n",
    "strings.head()"
   ]
  },
  {
   "cell_type": "code",
   "execution_count": null,
   "id": "54323885-7df7-4697-b595-10720ef2d4ee",
   "metadata": {},
   "outputs": [],
   "source": []
  },
  {
   "cell_type": "code",
   "execution_count": 25,
   "id": "54d085fb-2cc8-4129-b0bb-e18a80d79755",
   "metadata": {},
   "outputs": [
    {
     "data": {
      "text/plain": [
       "playerID\n",
       "aaltoan01   1975-03-04\n",
       "abdelju01   1987-02-25\n",
       "abidra01    1980-03-24\n",
       "abrahth01   1947-04-12\n",
       "actonke01   1958-04-15\n",
       "               ...    \n",
       "zubruda01   1978-06-16\n",
       "zuccama01   1987-09-01\n",
       "zuckeja01   1992-01-16\n",
       "zukemi01    1954-04-16\n",
       "zyuzian01   1978-01-21\n",
       "Name: birthDate, Length: 4627, dtype: datetime64[ns]"
      ]
     },
     "execution_count": 25,
     "metadata": {},
     "output_type": "execute_result"
    }
   ],
   "source": [
    "parsed = pd.to_datetime(strings, format='%mxx%dxx%Y')\n",
    "parsed"
   ]
  },
  {
   "cell_type": "code",
   "execution_count": 27,
   "id": "cd0d1c46-5322-4bde-9987-52e4e4191948",
   "metadata": {},
   "outputs": [],
   "source": [
    "strings_error = strings.copy()\n",
    "strings_error.iloc[34] = 'xx123'\n"
   ]
  },
  {
   "cell_type": "code",
   "execution_count": 29,
   "id": "c2fbbaa6-5b1b-4386-b332-662f6e8ccf41",
   "metadata": {},
   "outputs": [],
   "source": [
    "parsed = pd.to_datetime(strings_error, format='%mxx%dxx%Y', errors='coerce')"
   ]
  },
  {
   "cell_type": "code",
   "execution_count": 31,
   "id": "f5d6382e-3751-475f-ac61-86c1f58aeb3d",
   "metadata": {},
   "outputs": [
    {
     "data": {
      "text/plain": [
       "NaT"
      ]
     },
     "execution_count": 31,
     "metadata": {},
     "output_type": "execute_result"
    }
   ],
   "source": [
    "parsed.iloc[34]"
   ]
  },
  {
   "cell_type": "code",
   "execution_count": 32,
   "id": "94223d86-e756-4fde-8b68-98f1ac9c2f40",
   "metadata": {},
   "outputs": [
    {
     "data": {
      "text/plain": [
       "'xx123'"
      ]
     },
     "execution_count": 32,
     "metadata": {},
     "output_type": "execute_result"
    }
   ],
   "source": [
    "parsed = pd.to_datetime(strings_error, format='%mxx%dxx%Y', errors='ignore')\n",
    "parsed.iloc[34]"
   ]
  },
  {
   "cell_type": "code",
   "execution_count": 33,
   "id": "2aae9c5b-1d02-45b9-96f1-13713e8b6f74",
   "metadata": {},
   "outputs": [
    {
     "data": {
      "text/plain": [
       "birthDate\n",
       "1975-03-04    aaltoan01\n",
       "1987-02-25    abdelju01\n",
       "1980-03-24     abidra01\n",
       "1947-04-12    abrahth01\n",
       "1958-04-15    actonke01\n",
       "Name: playerID, dtype: object"
      ]
     },
     "execution_count": 33,
     "metadata": {},
     "output_type": "execute_result"
    }
   ],
   "source": [
    "birth_dates = pd.Series(master.index, index=master.birthDate)\n",
    "birth_dates.head()"
   ]
  },
  {
   "cell_type": "code",
   "execution_count": 34,
   "id": "609c43aa-9c2d-49e3-abad-4a8e5f8fd446",
   "metadata": {},
   "outputs": [
    {
     "data": {
      "text/plain": [
       "birthDate\n",
       "1940-01-27    harpete01\n",
       "1940-03-22     keonda01\n",
       "1940-10-03    ratelje01\n",
       "1942-02-20    esposph01\n",
       "1943-04-23    esposto01\n",
       "Name: playerID, dtype: object"
      ]
     },
     "execution_count": 34,
     "metadata": {},
     "output_type": "execute_result"
    }
   ],
   "source": [
    "birth_dates = birth_dates.sort_index()\n",
    "birth_dates.head()"
   ]
  },
  {
   "cell_type": "code",
   "execution_count": 35,
   "id": "1896fcc9-7c27-44e1-95c0-c956383afc33",
   "metadata": {},
   "outputs": [
    {
     "data": {
      "text/plain": [
       "birthDate\n",
       "1980-01-02    zalesmi01\n",
       "1980-01-10    stanara01\n",
       "1980-01-13    bouckty01\n",
       "1980-01-13     ruppmi01\n",
       "1980-01-15    papinju01\n",
       "Name: playerID, dtype: object"
      ]
     },
     "execution_count": 35,
     "metadata": {},
     "output_type": "execute_result"
    }
   ],
   "source": [
    "born_1980 = birth_dates['1980']\n",
    "born_1980.head()"
   ]
  },
  {
   "cell_type": "code",
   "execution_count": 36,
   "id": "53055218-ef24-473c-9a22-9cb8e2506d9e",
   "metadata": {},
   "outputs": [
    {
     "data": {
      "text/plain": [
       "birthDate\n",
       "1980-07-03    miettan01\n",
       "1980-07-05    huntetr01\n",
       "1980-07-08    chouier01\n",
       "1980-07-15    cheecjo01\n",
       "1980-07-17    millery01\n",
       "Name: playerID, dtype: object"
      ]
     },
     "execution_count": 36,
     "metadata": {},
     "output_type": "execute_result"
    }
   ],
   "source": [
    "born_1980 = birth_dates['1980-07']\n",
    "born_1980.head()"
   ]
  },
  {
   "cell_type": "code",
   "execution_count": 38,
   "id": "3f667dce-ca45-4f3f-b3a4-9acb8b06779f",
   "metadata": {},
   "outputs": [
    {
     "data": {
      "text/plain": [
       "birthDate\n",
       "1980-07-24    jillsje01\n",
       "1980-07-24    printda01\n",
       "Name: playerID, dtype: object"
      ]
     },
     "execution_count": 38,
     "metadata": {},
     "output_type": "execute_result"
    }
   ],
   "source": [
    "born_1980 = birth_dates['1980-07-24']\n",
    "born_1980"
   ]
  },
  {
   "cell_type": "code",
   "execution_count": 39,
   "id": "c77060f6-abeb-49db-a6e0-cbb61041a6ba",
   "metadata": {},
   "outputs": [
    {
     "data": {
      "text/plain": [
       "birthDate\n",
       "1980-07-20    arsende01\n",
       "1980-07-22    kalindm01\n",
       "1980-07-24    jillsje01\n",
       "1980-07-24    printda01\n",
       "1980-07-31    fischji01\n",
       "Name: playerID, dtype: object"
      ]
     },
     "execution_count": 39,
     "metadata": {},
     "output_type": "execute_result"
    }
   ],
   "source": [
    "born_1980 = birth_dates['1980-07-20':'1980-07-31']\n",
    "born_1980"
   ]
  },
  {
   "cell_type": "code",
   "execution_count": 40,
   "id": "facbb364-4009-4b5b-bbb6-a8387c088823",
   "metadata": {},
   "outputs": [
    {
     "data": {
      "text/plain": [
       "Timedelta('55 days 00:00:00')"
      ]
     },
     "execution_count": 40,
     "metadata": {},
     "output_type": "execute_result"
    }
   ],
   "source": [
    "diff = birth_dates.index[1] - birth_dates.index[0]\n",
    "diff"
   ]
  },
  {
   "cell_type": "code",
   "execution_count": 41,
   "id": "e26d3a48-32e1-4d44-b036-673fced6a45a",
   "metadata": {},
   "outputs": [
    {
     "data": {
      "text/plain": [
       "Timestamp('1945-09-08 00:00:00')"
      ]
     },
     "execution_count": 41,
     "metadata": {},
     "output_type": "execute_result"
    }
   ],
   "source": [
    "birth_dates.index[10]"
   ]
  },
  {
   "cell_type": "code",
   "execution_count": 42,
   "id": "4b156d6d-16f8-4200-a211-c66d85b51fc7",
   "metadata": {},
   "outputs": [
    {
     "data": {
      "text/plain": [
       "Timestamp('1945-11-02 00:00:00')"
      ]
     },
     "execution_count": 42,
     "metadata": {},
     "output_type": "execute_result"
    }
   ],
   "source": [
    "birth_dates.index[10] + diff"
   ]
  },
  {
   "cell_type": "code",
   "execution_count": 43,
   "id": "50c81a3f-62e0-4388-bfbf-3fc8109b8fff",
   "metadata": {},
   "outputs": [
    {
     "data": {
      "text/plain": [
       "Timedelta('55 days 00:00:00')"
      ]
     },
     "execution_count": 43,
     "metadata": {},
     "output_type": "execute_result"
    }
   ],
   "source": [
    "diff"
   ]
  },
  {
   "cell_type": "code",
   "execution_count": 44,
   "id": "db0883d5-c6ba-4643-b072-caca5e56d898",
   "metadata": {},
   "outputs": [
    {
     "data": {
      "text/plain": [
       "Components(days=55, hours=0, minutes=0, seconds=0, milliseconds=0, microseconds=0, nanoseconds=0)"
      ]
     },
     "execution_count": 44,
     "metadata": {},
     "output_type": "execute_result"
    }
   ],
   "source": [
    "diff.components"
   ]
  },
  {
   "cell_type": "code",
   "execution_count": 46,
   "id": "26685f61-ce76-4e75-8624-636441333468",
   "metadata": {},
   "outputs": [
    {
     "name": "stderr",
     "output_type": "stream",
     "text": [
      "/tmp/ipykernel_31175/4221292166.py:1: FutureWarning: Units 'M', 'Y' and 'y' do not represent unambiguous timedelta values and will be removed in a future version.\n",
      "  diff = diff + '5H' - '10M'\n"
     ]
    },
    {
     "data": {
      "text/plain": [
       "Timedelta('55 days 04:50:00')"
      ]
     },
     "execution_count": 46,
     "metadata": {},
     "output_type": "execute_result"
    }
   ],
   "source": [
    "diff = diff + '5H' - '10M'\n",
    "diff"
   ]
  },
  {
   "cell_type": "code",
   "execution_count": 47,
   "id": "d91c4692-4d74-4a8c-b3a0-63492d043be9",
   "metadata": {},
   "outputs": [
    {
     "data": {
      "text/plain": [
       "Components(days=55, hours=4, minutes=50, seconds=0, milliseconds=0, microseconds=0, nanoseconds=0)"
      ]
     },
     "execution_count": 47,
     "metadata": {},
     "output_type": "execute_result"
    }
   ],
   "source": [
    "diff.components"
   ]
  },
  {
   "cell_type": "code",
   "execution_count": 48,
   "id": "24bfb40a-045d-410e-9dfa-cbdbc45cf6a0",
   "metadata": {},
   "outputs": [
    {
     "data": {
      "text/plain": [
       "Timedelta('60 days 00:00:00')"
      ]
     },
     "execution_count": 48,
     "metadata": {},
     "output_type": "execute_result"
    }
   ],
   "source": [
    "diff.round('10D')"
   ]
  },
  {
   "cell_type": "code",
   "execution_count": 50,
   "id": "8a7f5904-9008-4b18-9aec-242f8be95fb5",
   "metadata": {},
   "outputs": [
    {
     "data": {
      "text/plain": [
       "Timedelta('55 days 05:00:00')"
      ]
     },
     "execution_count": 50,
     "metadata": {},
     "output_type": "execute_result"
    }
   ],
   "source": [
    "diff.round('1H')"
   ]
  },
  {
   "cell_type": "code",
   "execution_count": null,
   "id": "1e5c7b9c-8312-4ebe-99c1-30c75a900cba",
   "metadata": {},
   "outputs": [],
   "source": []
  }
 ],
 "metadata": {
  "kernelspec": {
   "display_name": "Python 3 (ipykernel)",
   "language": "python",
   "name": "python3"
  },
  "language_info": {
   "codemirror_mode": {
    "name": "ipython",
    "version": 3
   },
   "file_extension": ".py",
   "mimetype": "text/x-python",
   "name": "python",
   "nbconvert_exporter": "python",
   "pygments_lexer": "ipython3",
   "version": "3.10.6"
  }
 },
 "nbformat": 4,
 "nbformat_minor": 5
}
