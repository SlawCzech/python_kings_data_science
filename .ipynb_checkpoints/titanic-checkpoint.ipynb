{
 "cells": [
  {
   "cell_type": "code",
   "execution_count": 4,
   "id": "6068080e-c64c-4b01-9ec1-beb12cac7cb8",
   "metadata": {},
   "outputs": [],
   "source": [
    "import os\n",
    "\n",
    "import pandas as pd"
   ]
  },
  {
   "cell_type": "code",
   "execution_count": 6,
   "id": "2cc68198-72b1-4f79-ab06-12528151c3d7",
   "metadata": {},
   "outputs": [],
   "source": [
    "titanic_data = pd.read_csv(os.path.join('titanic.csv'))"
   ]
  },
  {
   "cell_type": "code",
   "execution_count": 7,
   "id": "e9711517-c439-4f0f-ae72-212f16771287",
   "metadata": {},
   "outputs": [
    {
     "name": "stdout",
     "output_type": "stream",
     "text": [
      "<class 'pandas.core.frame.DataFrame'>\n",
      "RangeIndex: 891 entries, 0 to 890\n",
      "Data columns (total 12 columns):\n",
      " #   Column       Non-Null Count  Dtype  \n",
      "---  ------       --------------  -----  \n",
      " 0   PassengerId  891 non-null    int64  \n",
      " 1   Survived     891 non-null    int64  \n",
      " 2   Pclass       891 non-null    int64  \n",
      " 3   Name         891 non-null    object \n",
      " 4   Sex          891 non-null    object \n",
      " 5   Age          714 non-null    float64\n",
      " 6   SibSp        891 non-null    int64  \n",
      " 7   Parch        891 non-null    int64  \n",
      " 8   Ticket       891 non-null    object \n",
      " 9   Fare         891 non-null    float64\n",
      " 10  Cabin        204 non-null    object \n",
      " 11  Embarked     889 non-null    object \n",
      "dtypes: float64(2), int64(5), object(5)\n",
      "memory usage: 83.7+ KB\n"
     ]
    }
   ],
   "source": [
    "titanic_data.info()"
   ]
  },
  {
   "cell_type": "code",
   "execution_count": 8,
   "id": "77438a21-a08f-4977-9fce-49dc9a11e732",
   "metadata": {},
   "outputs": [
    {
     "data": {
      "text/html": [
       "<div>\n",
       "<style scoped>\n",
       "    .dataframe tbody tr th:only-of-type {\n",
       "        vertical-align: middle;\n",
       "    }\n",
       "\n",
       "    .dataframe tbody tr th {\n",
       "        vertical-align: top;\n",
       "    }\n",
       "\n",
       "    .dataframe thead th {\n",
       "        text-align: right;\n",
       "    }\n",
       "</style>\n",
       "<table border=\"1\" class=\"dataframe\">\n",
       "  <thead>\n",
       "    <tr style=\"text-align: right;\">\n",
       "      <th></th>\n",
       "      <th>PassengerId</th>\n",
       "      <th>Survived</th>\n",
       "      <th>Pclass</th>\n",
       "      <th>Name</th>\n",
       "      <th>Sex</th>\n",
       "      <th>Age</th>\n",
       "      <th>SibSp</th>\n",
       "      <th>Parch</th>\n",
       "      <th>Ticket</th>\n",
       "      <th>Fare</th>\n",
       "      <th>Cabin</th>\n",
       "      <th>Embarked</th>\n",
       "    </tr>\n",
       "  </thead>\n",
       "  <tbody>\n",
       "    <tr>\n",
       "      <th>0</th>\n",
       "      <td>1</td>\n",
       "      <td>0</td>\n",
       "      <td>3</td>\n",
       "      <td>Braund, Mr. Owen Harris</td>\n",
       "      <td>male</td>\n",
       "      <td>22.0</td>\n",
       "      <td>1</td>\n",
       "      <td>0</td>\n",
       "      <td>A/5 21171</td>\n",
       "      <td>7.2500</td>\n",
       "      <td>NaN</td>\n",
       "      <td>S</td>\n",
       "    </tr>\n",
       "    <tr>\n",
       "      <th>1</th>\n",
       "      <td>2</td>\n",
       "      <td>1</td>\n",
       "      <td>1</td>\n",
       "      <td>Cumings, Mrs. John Bradley (Florence Briggs Th...</td>\n",
       "      <td>female</td>\n",
       "      <td>38.0</td>\n",
       "      <td>1</td>\n",
       "      <td>0</td>\n",
       "      <td>PC 17599</td>\n",
       "      <td>71.2833</td>\n",
       "      <td>C85</td>\n",
       "      <td>C</td>\n",
       "    </tr>\n",
       "    <tr>\n",
       "      <th>2</th>\n",
       "      <td>3</td>\n",
       "      <td>1</td>\n",
       "      <td>3</td>\n",
       "      <td>Heikkinen, Miss. Laina</td>\n",
       "      <td>female</td>\n",
       "      <td>26.0</td>\n",
       "      <td>0</td>\n",
       "      <td>0</td>\n",
       "      <td>STON/O2. 3101282</td>\n",
       "      <td>7.9250</td>\n",
       "      <td>NaN</td>\n",
       "      <td>S</td>\n",
       "    </tr>\n",
       "    <tr>\n",
       "      <th>3</th>\n",
       "      <td>4</td>\n",
       "      <td>1</td>\n",
       "      <td>1</td>\n",
       "      <td>Futrelle, Mrs. Jacques Heath (Lily May Peel)</td>\n",
       "      <td>female</td>\n",
       "      <td>35.0</td>\n",
       "      <td>1</td>\n",
       "      <td>0</td>\n",
       "      <td>113803</td>\n",
       "      <td>53.1000</td>\n",
       "      <td>C123</td>\n",
       "      <td>S</td>\n",
       "    </tr>\n",
       "    <tr>\n",
       "      <th>4</th>\n",
       "      <td>5</td>\n",
       "      <td>0</td>\n",
       "      <td>3</td>\n",
       "      <td>Allen, Mr. William Henry</td>\n",
       "      <td>male</td>\n",
       "      <td>35.0</td>\n",
       "      <td>0</td>\n",
       "      <td>0</td>\n",
       "      <td>373450</td>\n",
       "      <td>8.0500</td>\n",
       "      <td>NaN</td>\n",
       "      <td>S</td>\n",
       "    </tr>\n",
       "  </tbody>\n",
       "</table>\n",
       "</div>"
      ],
      "text/plain": [
       "   PassengerId  Survived  Pclass  \\\n",
       "0            1         0       3   \n",
       "1            2         1       1   \n",
       "2            3         1       3   \n",
       "3            4         1       1   \n",
       "4            5         0       3   \n",
       "\n",
       "                                                Name     Sex   Age  SibSp  \\\n",
       "0                            Braund, Mr. Owen Harris    male  22.0      1   \n",
       "1  Cumings, Mrs. John Bradley (Florence Briggs Th...  female  38.0      1   \n",
       "2                             Heikkinen, Miss. Laina  female  26.0      0   \n",
       "3       Futrelle, Mrs. Jacques Heath (Lily May Peel)  female  35.0      1   \n",
       "4                           Allen, Mr. William Henry    male  35.0      0   \n",
       "\n",
       "   Parch            Ticket     Fare Cabin Embarked  \n",
       "0      0         A/5 21171   7.2500   NaN        S  \n",
       "1      0          PC 17599  71.2833   C85        C  \n",
       "2      0  STON/O2. 3101282   7.9250   NaN        S  \n",
       "3      0            113803  53.1000  C123        S  \n",
       "4      0            373450   8.0500   NaN        S  "
      ]
     },
     "execution_count": 8,
     "metadata": {},
     "output_type": "execute_result"
    }
   ],
   "source": [
    "titanic_data.head()"
   ]
  },
  {
   "cell_type": "code",
   "execution_count": 11,
   "id": "1ae7d360-e877-4194-9d3a-67ce3321b83d",
   "metadata": {},
   "outputs": [],
   "source": [
    "titanic_data.drop(columns=['PassengerId', 'Name', 'Ticket', 'Cabin'], inplace=True)"
   ]
  },
  {
   "cell_type": "code",
   "execution_count": 12,
   "id": "b052021a-f0f1-4fc0-8927-f64eb02aa3b3",
   "metadata": {},
   "outputs": [],
   "source": [
    "from sklearn import preprocessing\n",
    "\n",
    "# FUCK"
   ]
  },
  {
   "cell_type": "code",
   "execution_count": null,
   "id": "972dce22-cf8f-46f4-a99b-7af80337f489",
   "metadata": {},
   "outputs": [],
   "source": [
    "# titanic_data[titanic_data.isnull().any(axis=1)]"
   ]
  },
  {
   "cell_type": "code",
   "execution_count": null,
   "id": "8b2e51b2-8f9e-4538-84c1-689ecb931f8a",
   "metadata": {},
   "outputs": [],
   "source": [
    "# titanic_data = titanic_data.dropna()"
   ]
  },
  {
   "cell_type": "code",
   "execution_count": null,
   "id": "c494d64c-9a2b-4846-bc24-3b39395ce1be",
   "metadata": {},
   "outputs": [],
   "source": [
    "# from sklearn.cluster import MeanShift\n",
    "\n",
    "# analyzer = MeanShift(bandwidth=30)\n",
    "# analyzer.fit(titanic_data)"
   ]
  },
  {
   "cell_type": "code",
   "execution_count": null,
   "id": "22cc4ef3-405b-4ba5-8881-f7429d82ef21",
   "metadata": {},
   "outputs": [],
   "source": [
    "# from sklearn.cluster import estimate_bandwidth\n",
    "# estimate_bandwidth(titanic_data)"
   ]
  },
  {
   "cell_type": "code",
   "execution_count": null,
   "id": "4e53b583-d644-4487-940a-e60cad8afd7b",
   "metadata": {},
   "outputs": [],
   "source": [
    "# FUCK"
   ]
  },
  {
   "cell_type": "code",
   "execution_count": null,
   "id": "c602aab3-20cc-4e1f-b1b6-3e83e4037f63",
   "metadata": {},
   "outputs": [],
   "source": [
    "# import numpy as np\n",
    "# n.unique(labels)"
   ]
  },
  {
   "cell_type": "code",
   "execution_count": null,
   "id": "294c3460-380c-4ca3-b914-8edf98c56218",
   "metadata": {},
   "outputs": [],
   "source": [
    "# titanic_data['cluster_group'] = labels\n",
    "# titanic_data"
   ]
  },
  {
   "cell_type": "code",
   "execution_count": null,
   "id": "a6cedb37-b882-403a-bf3c-11d4f57d3d0f",
   "metadata": {},
   "outputs": [],
   "source": [
    "# titanic_data.describe()"
   ]
  },
  {
   "cell_type": "code",
   "execution_count": null,
   "id": "e23cf2f6-aa72-42df-a663-f106a40888e1",
   "metadata": {},
   "outputs": [],
   "source": [
    "# titanic_data.groupby([cluster_group]).mean()"
   ]
  },
  {
   "cell_type": "code",
   "execution_count": null,
   "id": "a6b5a7a3-562c-435d-8e2f-ce00bcbae07c",
   "metadata": {},
   "outputs": [],
   "source": [
    "# titanic_df = titanic_data.groupby([cluster_group]).mean()"
   ]
  },
  {
   "cell_type": "code",
   "execution_count": null,
   "id": "33deedbf-a5f5-4ce2-9679-54debb4f9771",
   "metadata": {},
   "outputs": [],
   "source": [
    "# titanic_df['Counts'] = titanic_data.groupby(['cluster_group'])    FUUUUCK"
   ]
  },
  {
   "cell_type": "code",
   "execution_count": null,
   "id": "05f3f77b-4c71-4365-ae7e-d2dc49632a6c",
   "metadata": {},
   "outputs": [],
   "source": [
    "# titanic_df"
   ]
  },
  {
   "cell_type": "code",
   "execution_count": null,
   "id": "2ee2a018-1ab4-48e0-96f8-836f22c61f74",
   "metadata": {},
   "outputs": [],
   "source": [
    "# titanic_data[titanic_data['cluster_group'] == 1].describe() "
   ]
  },
  {
   "cell_type": "code",
   "execution_count": null,
   "id": "25d66e3a-55f2-4932-8a5e-58fd33dbde33",
   "metadata": {},
   "outputs": [],
   "source": [
    "# titanic_data[titanic_data['cluster_group'] == 1]"
   ]
  }
 ],
 "metadata": {
  "kernelspec": {
   "display_name": "Python 3 (ipykernel)",
   "language": "python",
   "name": "python3"
  },
  "language_info": {
   "codemirror_mode": {
    "name": "ipython",
    "version": 3
   },
   "file_extension": ".py",
   "mimetype": "text/x-python",
   "name": "python",
   "nbconvert_exporter": "python",
   "pygments_lexer": "ipython3",
   "version": "3.10.6"
  }
 },
 "nbformat": 4,
 "nbformat_minor": 5
}
